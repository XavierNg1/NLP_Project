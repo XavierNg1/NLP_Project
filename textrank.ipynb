{
  "nbformat": 4,
  "nbformat_minor": 0,
  "metadata": {
    "colab": {
      "name": "textrank.ipynb",
      "provenance": []
    },
    "kernelspec": {
      "name": "python3",
      "display_name": "Python 3"
    },
    "language_info": {
      "name": "python"
    }
  },
  "cells": [
    {
      "cell_type": "markdown",
      "metadata": {
        "id": "O9DKMcM5PWlP"
      },
      "source": [
        "## Extractive text summarization"
      ]
    },
    {
      "cell_type": "code",
      "metadata": {
        "colab": {
          "base_uri": "https://localhost:8080/"
        },
        "id": "CJYS2qm165T9",
        "outputId": "58b0bdb6-7b6a-4a10-b1df-98ef39d7f144"
      },
      "source": [
        "import numpy as np # linear algebra\n",
        "import pandas as pd # data processing, CSV file I/O (e.g. pd.read_csv)\n",
        "import nltk\n",
        "nltk.download('punkt') # one time execution\n",
        "import re\n",
        "import os"
      ],
      "execution_count": 22,
      "outputs": [
        {
          "output_type": "stream",
          "text": [
            "[nltk_data] Downloading package punkt to /root/nltk_data...\n",
            "[nltk_data]   Package punkt is already up-to-date!\n"
          ],
          "name": "stdout"
        }
      ]
    },
    {
      "cell_type": "code",
      "metadata": {
        "colab": {
          "base_uri": "https://localhost:8080/"
        },
        "id": "Albw5b86BOgY",
        "outputId": "cbc3ad4f-cffa-456d-f4ae-e16fa2fb6216"
      },
      "source": [
        "!pip install --upgrade nltk"
      ],
      "execution_count": 23,
      "outputs": [
        {
          "output_type": "stream",
          "text": [
            "Requirement already up-to-date: nltk in /usr/local/lib/python3.7/dist-packages (3.6.1)\n",
            "Requirement already satisfied, skipping upgrade: tqdm in /usr/local/lib/python3.7/dist-packages (from nltk) (4.41.1)\n",
            "Requirement already satisfied, skipping upgrade: joblib in /usr/local/lib/python3.7/dist-packages (from nltk) (1.0.1)\n",
            "Requirement already satisfied, skipping upgrade: regex in /usr/local/lib/python3.7/dist-packages (from nltk) (2019.12.20)\n",
            "Requirement already satisfied, skipping upgrade: click in /usr/local/lib/python3.7/dist-packages (from nltk) (7.1.2)\n"
          ],
          "name": "stdout"
        }
      ]
    },
    {
      "cell_type": "code",
      "metadata": {
        "colab": {
          "base_uri": "https://localhost:8080/"
        },
        "id": "AXQTYHBRQ1OO",
        "outputId": "fe7ee049-4d26-4170-c570-cd4b0f88be5c"
      },
      "source": [
        "nltk.download(\"stopwords\") "
      ],
      "execution_count": 26,
      "outputs": [
        {
          "output_type": "stream",
          "text": [
            "[nltk_data] Downloading package stopwords to /root/nltk_data...\n",
            "[nltk_data]   Unzipping corpora/stopwords.zip.\n"
          ],
          "name": "stdout"
        },
        {
          "output_type": "execute_result",
          "data": {
            "text/plain": [
              "True"
            ]
          },
          "metadata": {
            "tags": []
          },
          "execution_count": 26
        }
      ]
    },
    {
      "cell_type": "code",
      "metadata": {
        "id": "ENLWbT2zBl2Y"
      },
      "source": [
        "\n",
        "\n",
        "!pip install datasets\n",
        "from datasets import load_metric\n",
        "metric = load_metric(\"meteor\")"
      ],
      "execution_count": null,
      "outputs": []
    },
    {
      "cell_type": "markdown",
      "metadata": {
        "id": "9noztIJMPA5r"
      },
      "source": [
        "install wikihowAll.csv from this url  https://ucsb.app.box.com/s/ap23l8gafpezf4tq3wapr6u8241zz358 and put it in your drive . Then mount your drive to colab in following cell"
      ]
    },
    {
      "cell_type": "code",
      "metadata": {
        "colab": {
          "base_uri": "https://localhost:8080/"
        },
        "id": "SVuJymZMN5B9",
        "outputId": "a8c686c7-1e0f-4922-eeb8-e3ef18b5e7eb"
      },
      "source": [
        "from google.colab import drive\n",
        "drive.mount(\"/content/drive\")"
      ],
      "execution_count": 14,
      "outputs": [
        {
          "output_type": "stream",
          "text": [
            "Mounted at /content/drive\n"
          ],
          "name": "stdout"
        }
      ]
    },
    {
      "cell_type": "code",
      "metadata": {
        "id": "l7n29DWJ7wGa"
      },
      "source": [
        "'''\n",
        "This code is used to create article and summary files from the csv file.\n",
        "The output of the file will be a directory of text files representing seoarate articles and their summaries.\n",
        "Each summary line starts with tag \"@summary\" and the article is followed by \"@article\".\n",
        "'''\n",
        "\n",
        "import os\n",
        "\n",
        "\n",
        "# read data from the csv file (from the location it is stored)\n",
        "Data = pd.read_csv(r'/content/drive/MyDrive/wikihowAll.csv')\n",
        "Data = Data.astype(str)\n",
        "rows, columns = Data.shape\n",
        "\n",
        "# create a file to record the file names. This can be later used to divide the dataset in train/dev/test sets\n",
        "title_file = open('titles.txt', 'wb')\n",
        "\n",
        "# The path where the articles are to be saved\n",
        "path = \"articles\"\n",
        "if not os.path.exists(path): os.makedirs(path)\n",
        "\n",
        "# go over the all the articles in the data file\n",
        "for row in range(rows):\n",
        "    abstract = Data.loc[row,'headline']      # headline is the column representing the summary sentences\n",
        "    article = Data.loc[row,'text']           # text is the column representing the article\n",
        "\n",
        "    #  a threshold is used to remove short articles with long summaries as well as articles with no summary\n",
        "    if len(abstract) < (0.75*len(article)):\n",
        "        # remove extra commas in abstracts\n",
        "        abstract = abstract.replace(\".,\",\".\")\n",
        "        abstract = abstract.encode('utf-8')\n",
        "        # remove extra commas in articles\n",
        "        article = re.sub(r'[.]+[\\n]+[,]',\".\\n\", article)\n",
        "        article = article.encode('utf-8')\n",
        "        \n",
        "\n",
        "        # a temporary file is created to initially write the summary, it is later used to separate the sentences of the summary\n",
        "        with open('temporaryFile.txt','wb') as t:\n",
        "            t.write(abstract)\n",
        "        \n",
        "        # file names are created using the alphanumeric charachters from the article titles.\n",
        "        # they are stored in a separate text file.\n",
        "        filename = Data.loc[row,'title']\n",
        "        filename = \"\".join(x for x in filename if x.isalnum())\n",
        "        filename1 = filename + '.txt'\n",
        "        filename = filename.encode('utf-8')\n",
        "        title_file.write(filename+b'\\n')\n",
        "\n",
        "        \n",
        "        with open(path+'/'+filename1,'wb') as f:\n",
        "            # summary sentences will first be written into the file in separate lines\n",
        "            with open('temporaryFile.txt','r') as t:\n",
        "                for line in t:\n",
        "                    line=line.lower()\n",
        "                    if line != \"\\n\" and line != \"\\t\" and line != \" \":\n",
        "                        f.write(b'@summary'+b'\\n')\n",
        "                        f.write(line.encode('utf-8'))\n",
        "                        f.write(b'\\n')\n",
        "                    \n",
        "            # finally the article is written to the file\n",
        "            f.write(b'@article' + b'\\n')    \n",
        "            f.write(article)\n",
        "\n",
        "title_file.close()"
      ],
      "execution_count": 15,
      "outputs": []
    },
    {
      "cell_type": "markdown",
      "metadata": {
        "id": "qOtrA81o8VOX"
      },
      "source": [
        "I- Naive implementation : <br>\n",
        "Test text rank on one article"
      ]
    },
    {
      "cell_type": "code",
      "metadata": {
        "colab": {
          "base_uri": "https://localhost:8080/"
        },
        "id": "fjTT6Mwy8RRr",
        "outputId": "7675bf4d-d02c-4bda-8949-30a93283ffbe"
      },
      "source": [
        "f = open('./articles/HowtoWinHisHeart.txt','r')\n",
        "txt = f.read()\n",
        "txt = txt.replace('@summary','')\n",
        "pair = re.split('@article',txt)\n",
        "pair = list(map(lambda x : re.sub(r\"\\'s\", \" \\'s\", x),pair))\n",
        "pair = list(map(lambda x :re.sub(r\"n\\'t\", \" n\\'t\", x),pair))\n",
        "pair = list(map(lambda x : re.sub(r\"\\s{2,}\", \" \", x), pair))\n",
        "pair = list(map(lambda x : x.strip(r\"\\n\"),pair))\n",
        "pair = list(map(lambda x : x.strip(),pair))\n",
        "pair = list(map(lambda x : x.replace('\\n',''),pair))\n",
        "pair"
      ],
      "execution_count": 16,
      "outputs": [
        {
          "output_type": "execute_result",
          "data": {
            "text/plain": [
              "['be confident. smile. place yourself in his path. play it cool. make him laugh. be nice to his friends. use the \"3 strikes and you\\'re out\" rule. have a successful first date. pay attention to his interests. do n\\'t take him for granted. maintain some space. decide if he \\'s truly worth it. tell him how you feel.',\n",
              " 'The most important way you can attract the guy of your dreams is to be confident and content in your own self. You can do this by wearing a cute outfit, doing something new with your hair, trying a new makeup style, or simply just thinking positively, because confidence is one of the most attractive traits a person can possibly have and it will make you less anxious about failure, which makes it hard to take the leap and into a potential relationship. Do n\\'t judge yourself or others harshly. When you focus on all your flaws that is all that you\\'ll think you have to offer and when you focus on the flaws of others, you are making your own brain toxic with negative thoughts.Do n\\'t compare yourself to other people. Someone is always going to be more attractive than you, more successful than you, and have more romantic partners than you. Focus on the things that you have rather than the things that other people have.;, If you want people to notice you, especially that guy of your dreams, you should send a little smile in his direction and cultivate a positive attitude. Even better make eye contact with your chosen sweetheart and give him a little smile. It\\'ll signal your interest in a non-threatening way and, perhaps, intrigue him., Now this does n\\'t mean that you should go around stalking him wherever he goes, but if you know that he likes to frequent a particular coffee shop or book store, feel free to spend some time there and \"bump\" into him. It\\'ll give you a little chance to talk to one another without a bunch of people around like at a party.Do n\\'t do this all the time, or he\\'ll think that you\\'re stalking him. Once or twice is the ticket, before it becomes obvious what you\\'re up to. (There is nothing wrong with straightforwardly asking him out, but if you\\'re not feeling bold enough this is a good way to work up the nerve to winning him over). You do n\\'t want to be super overt and clingy about trying to win your guy \\'s heart, because you wo n\\'t come off very well. However, this does n\\'t mean that you need to hide your interest or pretend not to be interested. You simply want to make it so that you are interested but not overwhelming. You could try dropping a compliment or two; something that is n\\'t overwhelming (overwhelming would be \"you\\'re the most gorgeous guy I\\'ve ever met\") like \"hey that shirt is really awesome\" or \"I really like your new haircut.\"Show that you have a life outside of thinking about him. When the two of you do talk, just casually mention some of the fun things you\\'ve done that week (even if it \\'s things like the awesome book you read, or video game tournament you participated in, or the soccer game you won). It shows that you have interests and a life of your own.When you run into him, after chatting for a bit, say that you have to run to meet a friend or that you have to be somewhere. That way you\\'ll come across as having things to do and people to see, rather than someone who is waiting around to bump into him. Oftentimes the key to a person \\'s heart is through their humor. The saying goes \"the couple that laughs together, stays together.\" If you get him laughing at things you\\'re saying you\\'ll make him enjoy your company more and want to be around you more often. A good way to do this is to mention something that is slightly embarrassing or humbling that happened to you. Mention the time you mistook a stranger for your best friend and slapped them on the butt, or how on the way to the date you missed a step on the bus and fell out the door in front of everyone. It shows that you do n\\'t take yourself too seriously and that you can laugh at yourself.You do n\\'t need to belittle yourself or talk about how stupid you are. A confident person does n\\'t need to belittle themselves, because they know that they are awesome! And confidence is attractive! , He will listen to his friends\\' advice about whether or not to date you, so you\\'ll want to make sure that you\\'re number one their list. This does n\\'t mean that you need to agree with everything they say or that you should let them walk all over you (if his friends are that bad, though, you should rethink the guy you\\'re wanting to attract), but it does mean that you\\'re nice to them. When you\\'re out with him and his friends, really listen to what they say and show that you have interest in their interests. You do n\\'t have to pretend to be an expert in what they\\'re talking about if you\\'re not. Simply ask some questions and listen.Do n\\'t feel like you should sit on the sidelines when you\\'re around him and his friends. Participate in activities and introduce them to things that you like and you think they might like. It\\'ll show that you have respect for them and that you\\'re interested in getting to know them better. This rule allows you to avoid committing yourself to a courtship that is basically going nowhere, because who has the energy for that? It means that if you\\'ve given him opportunities to try to get to know you better and he has n\\'t jumped at the chance after 3 tries, then he \\'s probably not worth further effort. If you think that maybe he is interested but simply shy, there is no reason that you should n\\'t ask him out instead. That way, even if he does say \"no,\" you will have a firm answer and wo n\\'t be left wondering.The reason this is a good rule to follow is that you do n\\'t really want to be after him like a lovesick, desperate puppy. If he has n\\'t shown interest after awhile, he \\'s not going to, or he \\'s only going to show interest in having sex with you because he knows that you\\'re desperate (stay as far away from guys like that as you possibly can). Unless you\\'re only interested in sex, you\\'ll end up hurt by this arrangement.An example of this in action might be you meeting him at a party and chatting with him, then popping in by his favorite coffee shop and running into him there and then chatting with him in class later. If you\\'ve given him openings to ask you on a date (or even for coffee), and he has n\\'t gone for it after those 3 times, stop trying and move on. Now that you\\'ve gotten past the flirting stage, you\\'ll need to have that first date. A good way to win his heart is to have a successful first date that you both enjoy. It\\'ll will make him want to spend more time with you. Make sure that you have topics to talk about, because it can be awkward during a first date not to blurt out something that is more appropriate for a closer relationship (probably not a good time to go into your anxiety problems). Some conversation starters might be: what are your typical Sunday activities, what is a band or album that you loved, what was the last movie that you saw and what did you think about it, what is the funniest thing you\\'ve ever seen in public. Dress appropriately. This means that you wear something that you feel comfortable in, but which also suits the occasion. So if you\\'re off to a 4-star restaurant, something a little fancier is in order (a dress, or nice slacks and a nice button-up or blouse). If you\\'re going to a coffee shop, dress just a little nicer than your usual attire (button down instead of t-shirt, no ratty jeans, etc.).Remember that you want to be yourself for the date. You do n\\'t want your guy to be expecting you to be someone you\\'re not further in the relationship. That \\'s not fair to either of you. You do n\\'t have to bring all your quirks out into the open right away, but you should n\\'t be hiding things. A good way to let someone know that you\\'re interested in them and care about them is to take an interest in their interests and in their opinions about things. You do n\\'t have to understand those interests and you do n\\'t even necessarily have to enjoy them, but being interested enough to talk with your guy about them, will show him that you are interested in him. For example, if your guy is super into skiing and you\\'re more the bookish type, that \\'s okay! Make sure to ask him about his ski trips and even offer to go a few rounds yourself. Pick up on some of the terminology so that you\\'re able to converse more freely.Make sure that he \\'s also respecting and interested in your interests and hobbies. If he is n\\'t, that \\'s a pretty good sign that he \\'s either a narcissist or not very committed to having a relationship with you. There is nothing that makes someone feel good and cared about than by showing them that they are not being taken for granted. Find ways to demonstrate to him that you notice what he does for you and that you appreciate him in your life. Flat out saying \"I am so glad you\\'re in my life\" is a good and easy way to make sure he knows that you value him.Do some little things that show you appreciate him. If you\\'re crafty you could make him something (knit a hat, carve a special little box, paint a picture).Also, you could do something thoughtful for him, especially if he \\'s having a really busy or difficult time. Bring him some special cookies, or help him by editing his resume or essay, offer to drive his sister to the airport so he can get some extra studying in. This step is important for both of you. You do n\\'t want to enter into a co-dependent, ca n\\'t-breath-without-you kind of a relationship, as much as the movies make it look nice. Make sure that you\\'re both getting some space from each other and from the relationship. Maintain your relationships with your friends. Hang out with them. Have sleepovers and movie watching parties that are just with your friends, no significant others allowed.Pursue your hobbies and interests. Go on ski trips by yourself or with your family, go to knitting workshops, learn karate. This way, when the two of you are together again, you\\'ll have so much to talk about! , Maybe in the beginning he seemed like such a great guy, but it \\'s a good idea to check in with the relationship before you start doing a bunch of stuff to win his heart. You want to make sure that his heart is actually what you want, or even if it \\'s possible to win his heart. Obviously if he \\'s emotionally, physically, or sexually abusive, you should get away now. If he isolates you from friends and family, if he demeans you or tears you down either in private or in front of people, if he manipulates you or forces you to have sex when you do n\\'t want to, if he says he\\'ll kill himself if you ever leave him, any of these signs mean that you should get out.Some questions to ask yourself about your relationship: are the two of you open and honest with each other? Do you feel better with him, or do you feel like you\\'re walking on eggshells? Does he respect you? Do you feel like you\\'re the best version of your self when you\\'re with him? Does he?You should n\\'t ever feel like you need to \"fix him\" or \"make him better.\" You should be in a relationship with someone who does n\\'t need you to be their therapist or their mother. Sometimes the absolute best way to get what you want in a guy is to tell him how you feel and ask him if he feels the same way. Often you can hint and hint for ages and do everything you\\'re \"supposed\" to do and still you wo n\\'t know whether you\\'ve won his heart.Be open and direct. Tell him that you really like him and that you want to see how he feels about you, or how he might feel about you in the future.Be ready to hear the answer, even if it is n\\'t one that you want to hear. He might not feel the same way about you that you feel about him and that \\'s okay. Remember, it \\'s his loss not yours.']"
            ]
          },
          "metadata": {
            "tags": []
          },
          "execution_count": 16
        }
      ]
    },
    {
      "cell_type": "markdown",
      "metadata": {
        "id": "zxj8Np_M8hOv"
      },
      "source": [
        "Split to sentences"
      ]
    },
    {
      "cell_type": "code",
      "metadata": {
        "id": "N4QQTsqq8gun"
      },
      "source": [
        "from nltk.tokenize import sent_tokenize\n",
        "import random\n",
        "sentences = sent_tokenize(pair[1])\n",
        "sentences_summary = sent_tokenize(pair[0])\n",
        "sentences = sentences + sentences_summary\n",
        "sentences\n",
        "random.shuffle(sentences)"
      ],
      "execution_count": 17,
      "outputs": []
    },
    {
      "cell_type": "markdown",
      "metadata": {
        "id": "EYbbeaBX8jXx"
      },
      "source": [
        "Get word embeddings"
      ]
    },
    {
      "cell_type": "code",
      "metadata": {
        "colab": {
          "base_uri": "https://localhost:8080/"
        },
        "id": "XNBjmom78lLV",
        "outputId": "c8becf4c-0db5-4259-f22b-1e8a0093976f"
      },
      "source": [
        "!wget http://nlp.stanford.edu/data/glove.6B.zip\n",
        "!unzip glove*.zip"
      ],
      "execution_count": 18,
      "outputs": [
        {
          "output_type": "stream",
          "text": [
            "--2021-04-17 19:11:36--  http://nlp.stanford.edu/data/glove.6B.zip\n",
            "Resolving nlp.stanford.edu (nlp.stanford.edu)... 171.64.67.140\n",
            "Connecting to nlp.stanford.edu (nlp.stanford.edu)|171.64.67.140|:80... connected.\n",
            "HTTP request sent, awaiting response... 302 Found\n",
            "Location: https://nlp.stanford.edu/data/glove.6B.zip [following]\n",
            "--2021-04-17 19:11:36--  https://nlp.stanford.edu/data/glove.6B.zip\n",
            "Connecting to nlp.stanford.edu (nlp.stanford.edu)|171.64.67.140|:443... connected.\n",
            "HTTP request sent, awaiting response... 301 Moved Permanently\n",
            "Location: http://downloads.cs.stanford.edu/nlp/data/glove.6B.zip [following]\n",
            "--2021-04-17 19:11:36--  http://downloads.cs.stanford.edu/nlp/data/glove.6B.zip\n",
            "Resolving downloads.cs.stanford.edu (downloads.cs.stanford.edu)... 171.64.64.22\n",
            "Connecting to downloads.cs.stanford.edu (downloads.cs.stanford.edu)|171.64.64.22|:80... connected.\n",
            "HTTP request sent, awaiting response... 200 OK\n",
            "Length: 862182613 (822M) [application/zip]\n",
            "Saving to: ‘glove.6B.zip’\n",
            "\n",
            "glove.6B.zip        100%[===================>] 822.24M  5.06MB/s    in 2m 42s  \n",
            "\n",
            "2021-04-17 19:14:18 (5.08 MB/s) - ‘glove.6B.zip’ saved [862182613/862182613]\n",
            "\n",
            "Archive:  glove.6B.zip\n",
            "  inflating: glove.6B.50d.txt        \n",
            "  inflating: glove.6B.100d.txt       \n",
            "  inflating: glove.6B.200d.txt       \n",
            "  inflating: glove.6B.300d.txt       \n"
          ],
          "name": "stdout"
        }
      ]
    },
    {
      "cell_type": "markdown",
      "metadata": {
        "id": "s1VzesC88qf9"
      },
      "source": [
        "Extract word vectors"
      ]
    },
    {
      "cell_type": "code",
      "metadata": {
        "id": "5BoJflpR8nYv"
      },
      "source": [
        "# Extract word vectors\n",
        "\n",
        "word_embeddings = {}\n",
        "f = open('glove.6B.100d.txt', encoding='utf-8')\n",
        "for line in f:\n",
        "    values = line.split()\n",
        "    word = values[0]\n",
        "    coefs = np.asarray(values[1:], dtype='float32')\n",
        "    word_embeddings[word] = coefs\n",
        "f.close()"
      ],
      "execution_count": 19,
      "outputs": []
    },
    {
      "cell_type": "code",
      "metadata": {
        "colab": {
          "base_uri": "https://localhost:8080/"
        },
        "id": "vqO7yM4N8wR5",
        "outputId": "22271b18-dabc-46e8-f863-bc5212900432"
      },
      "source": [
        "len(word_embeddings)"
      ],
      "execution_count": 20,
      "outputs": [
        {
          "output_type": "execute_result",
          "data": {
            "text/plain": [
              "400000"
            ]
          },
          "metadata": {
            "tags": []
          },
          "execution_count": 20
        }
      ]
    },
    {
      "cell_type": "markdown",
      "metadata": {
        "id": "xPvXccTi80Fa"
      },
      "source": [
        "Additional preprocessing"
      ]
    },
    {
      "cell_type": "code",
      "metadata": {
        "colab": {
          "base_uri": "https://localhost:8080/"
        },
        "id": "iNcBQ8Au8w6-",
        "outputId": "832ea642-d2cd-4804-aec2-073bf6d71ca7"
      },
      "source": [
        "# remove punctuations, numbers and special characters\n",
        "clean_sentences = pd.Series(sentences).str.replace(\"[^a-zA-Z]\", \" \")\n",
        "\n",
        "# make alphabets lowercase\n",
        "clean_sentences = [s.lower() for s in clean_sentences]\n",
        "from nltk.corpus import stopwords\n",
        "stop_words = stopwords.words('english')\n",
        "# function to remove stopwords\n",
        "def remove_stopwords(sen):\n",
        "   sen_new = \" \".join([i for i in sen if i not in stop_words])\n",
        "   return sen_new\n",
        "# remove stopwords from the sentences\n",
        "clean_sentences = [remove_stopwords(r.split()) for r in clean_sentences]\n",
        "clean_sentences"
      ],
      "execution_count": 27,
      "outputs": [
        {
          "output_type": "execute_result",
          "data": {
            "text/plain": [
              "['might feel way feel okay',\n",
              " 'show life outside thinking',\n",
              " 'n understand interests n even necessarily enjoy interested enough talk guy show interested',\n",
              " 'flat saying glad life good easy way make sure knows value little things show appreciate',\n",
              " 'way two together much talk',\n",
              " 'even better make eye contact chosen sweetheart give little smile',\n",
              " 'good way let someone know interested care take interest interests opinions things',\n",
              " 'pay attention interests',\n",
              " 'n ever feel like need fix make better',\n",
              " 'however n mean need hide interest pretend interested',\n",
              " 'gotten past flirting stage need first date',\n",
              " 'make laugh',\n",
              " 'mention time mistook stranger best friend slapped butt way date missed step bus fell door front everyone',\n",
              " 'give little chance talk one another without bunch people around like party n time think stalking',\n",
              " 'given openings ask date even coffee n gone times stop trying move',\n",
              " 'maintain relationships friends',\n",
              " 'n pretend expert talking',\n",
              " 'n pretty good sign either narcissist committed relationship',\n",
              " 'smile',\n",
              " 'confidence attractive',\n",
              " 'n shown interest awhile going going show interest sex knows desperate stay far away guys like possibly',\n",
              " 'make want spend time',\n",
              " 'friends really listen say show interest interests',\n",
              " 'someone always going attractive successful romantic partners',\n",
              " 'two talk casually mention fun things done week even things like awesome book read video game tournament participated soccer game',\n",
              " 'want make sure heart actually want even possible win heart',\n",
              " 'way even say firm answer wo n left wondering reason good rule follow n really want like lovesick desperate puppy',\n",
              " 'often hint hint ages everything supposed still wo n know whether heart open direct',\n",
              " 'n want super overt clingy trying win guy heart wo n come well',\n",
              " 'maintain space',\n",
              " 'remember want date',\n",
              " 'good way mention something slightly embarrassing humbling happened',\n",
              " 'successful first date',\n",
              " 'nothing makes someone feel good cared showing taken granted',\n",
              " 'confident',\n",
              " 'find ways demonstrate notice appreciate life',\n",
              " 'feel better feel like walking eggshells',\n",
              " 'example guy super skiing bookish type okay',\n",
              " 'n want guy expecting someone relationship',\n",
              " 'n take granted',\n",
              " 'participate activities introduce things like think might like',\n",
              " 'unless interested sex end hurt arrangement example action might meeting party chatting popping favorite coffee shop running chatting class later',\n",
              " 'shows n take seriously laugh n need belittle talk stupid',\n",
              " 'n want enter co dependent ca n breath without kind relationship much movies make look nice',\n",
              " 'means given opportunities try get know better n jumped chance tries probably worth effort',\n",
              " 'make sure getting space relationship',\n",
              " 'play cool',\n",
              " 'show respect interested getting know better',\n",
              " 'listen friends advice whether date want make sure number one list',\n",
              " 'nice friends',\n",
              " 'make sure ask ski trips even offer go rounds',\n",
              " 'dress appropriately',\n",
              " 'nothing wrong straightforwardly asking feeling bold enough good way work nerve winning',\n",
              " 'make sure topics talk awkward first date blurt something appropriate closer relationship probably good time go anxiety problems',\n",
              " 'twice ticket becomes obvious',\n",
              " 'get laughing things saying make enjoy company want around often',\n",
              " 'n bring quirks open right away n hiding things',\n",
              " 'good way win heart successful first date enjoy',\n",
              " 'crafty could make something knit hat carve special little box paint picture also could something thoughtful especially really busy difficult time',\n",
              " 'n mean need agree everything say let walk friends bad though rethink guy wanting attract mean nice',\n",
              " 'simply ask questions listen n feel like sit sidelines around friends',\n",
              " 'saying goes couple laughs together stays together',\n",
              " 'wearing cute outfit something new hair trying new makeup style simply thinking positively confidence one attractive traits person possibly make less anxious failure makes hard take leap potential relationship',\n",
              " 'sometimes absolute best way get want guy tell feel ask feels way',\n",
              " 'rule allows avoid committing courtship basically going nowhere energy',\n",
              " 'obviously emotionally physically sexually abusive get away',\n",
              " 'want people notice especially guy dreams send little smile direction cultivate positive attitude',\n",
              " 'confident person n need belittle know awesome',\n",
              " 'oftentimes key person heart humor',\n",
              " 'isolates friends family demeans tears either private front people manipulates forces sex n want says kill ever leave signs mean get questions ask relationship two open honest',\n",
              " 'n judge others harshly',\n",
              " 'hang',\n",
              " 'going coffee shop dress little nicer usual attire button instead shirt ratty jeans etc',\n",
              " 'could try dropping compliment two something n overwhelming overwhelming would gorgeous guy ever met like hey shirt really awesome really like new haircut',\n",
              " 'place path',\n",
              " 'signal interest non threatening way perhaps intrigue n mean go around stalking wherever goes know likes frequent particular coffee shop book store feel free spend time bump',\n",
              " 'respect',\n",
              " 'bring special cookies help editing resume essay offer drive sister airport get extra studying',\n",
              " 'use strikes rule',\n",
              " 'focus things rather things people',\n",
              " 'conversation starters might typical sunday activities band album loved last movie saw think funniest thing ever seen public',\n",
              " 'fair either',\n",
              " 'way come across things people see rather someone waiting around bump',\n",
              " 'think maybe interested simply shy reason n ask instead',\n",
              " 'means wear something feel comfortable also suits occasion',\n",
              " 'shows interests life run chatting bit say run meet friend somewhere',\n",
              " 'pick terminology able converse freely make sure also respecting interested interests hobbies',\n",
              " 'focus flaws think offer focus flaws others making brain toxic negative thoughts n compare people',\n",
              " 'decide truly worth',\n",
              " 'important way attract guy dreams confident content self',\n",
              " 'feel like best version self',\n",
              " 'tell feel',\n",
              " 'simply want make interested overwhelming',\n",
              " 'step important',\n",
              " 'maybe beginning seemed like great guy good idea check relationship start bunch stuff win heart',\n",
              " 'go ski trips family go knitting workshops learn karate',\n",
              " 'star restaurant something little fancier order dress nice slacks nice button blouse',\n",
              " 'tell really like want see feels might feel future ready hear answer even n one want hear',\n",
              " 'remember loss',\n",
              " 'sleepovers movie watching parties friends significant others allowed pursue hobbies interests',\n",
              " 'relationship someone n need therapist mother']"
            ]
          },
          "metadata": {
            "tags": []
          },
          "execution_count": 27
        }
      ]
    },
    {
      "cell_type": "markdown",
      "metadata": {
        "id": "XGaaviFl85EF"
      },
      "source": [
        "\n",
        "Compute word embedding of each sentence as mean of the word embeddings of words"
      ]
    },
    {
      "cell_type": "code",
      "metadata": {
        "id": "3TuyZD3L87L8"
      },
      "source": [
        "sentence_vectors = []\n",
        "for i in clean_sentences:\n",
        "    if len(i) != 0:\n",
        "        v = sum([word_embeddings.get(w, np.zeros((100,))) for w in i.split()])/(len(i.split())+0.001)\n",
        "    else:\n",
        "        v = np.zeros((100,))\n",
        "    sentence_vectors.append(v)"
      ],
      "execution_count": 28,
      "outputs": []
    },
    {
      "cell_type": "markdown",
      "metadata": {
        "id": "oz7vDT6O8-PB"
      },
      "source": [
        "Compute similarity matrix between two sentences\n"
      ]
    },
    {
      "cell_type": "code",
      "metadata": {
        "id": "kwc0uEdg9ApY"
      },
      "source": [
        "# similarity matrix\n",
        "from sklearn.metrics.pairwise import cosine_similarity\n",
        "sim_mat = np.zeros([len(sentences), len(sentences)])\n",
        "for i in range(len(sentences)):\n",
        "    for j in range(len(sentences)):\n",
        "        if i != j:\n",
        "            sim_mat[i][j] = cosine_similarity(sentence_vectors[i].reshape(1,100), sentence_vectors[j].reshape(1,100))[0,0]\n"
      ],
      "execution_count": 29,
      "outputs": []
    },
    {
      "cell_type": "markdown",
      "metadata": {
        "id": "PIEJCuxK9C7b"
      },
      "source": [
        "Use graph theory's algorithm Page rank to rank sentences"
      ]
    },
    {
      "cell_type": "code",
      "metadata": {
        "id": "sFRBXqNn9Dc4"
      },
      "source": [
        "import networkx as nx\n",
        "\n",
        "nx_graph = nx.from_numpy_array(sim_mat)\n",
        "scores = nx.pagerank(nx_graph)\n",
        "ranked_sentences = sorted(((scores[i],s) for i,s in enumerate(sentences)), reverse=True)"
      ],
      "execution_count": 30,
      "outputs": []
    },
    {
      "cell_type": "markdown",
      "metadata": {
        "id": "XkshP9uH9GTV"
      },
      "source": [
        "Now u can specify the number of sentences u want in your summary and print ur summary"
      ]
    },
    {
      "cell_type": "code",
      "metadata": {
        "colab": {
          "base_uri": "https://localhost:8080/"
        },
        "id": "1-K5veL89I0h",
        "outputId": "0609dcaa-1087-48b9-cad9-a772fd9b4702"
      },
      "source": [
        "sn = 2\n",
        "for i in range(sn):\n",
        "    print(ranked_sentences[i][1])"
      ],
      "execution_count": 31,
      "outputs": [
        {
          "output_type": "stream",
          "text": [
            "Flat out saying \"I am so glad you're in my life\" is a good and easy way to make sure he knows that you value him.Do some little things that show you appreciate him.\n",
            "You do n't want to enter into a co-dependent, ca n't-breath-without-you kind of a relationship, as much as the movies make it look nice.\n"
          ],
          "name": "stdout"
        }
      ]
    },
    {
      "cell_type": "markdown",
      "metadata": {
        "id": "NiNAMRXR9NUH"
      },
      "source": [
        "Show ground truth summary"
      ]
    },
    {
      "cell_type": "code",
      "metadata": {
        "colab": {
          "base_uri": "https://localhost:8080/"
        },
        "id": "OgCr3DwJ9N0d",
        "outputId": "9807ed35-9cdd-46ea-843a-8138f3dc7ba0"
      },
      "source": [
        "summary_sents = sent_tokenize(pair[0])\n",
        "summary_sents"
      ],
      "execution_count": 32,
      "outputs": [
        {
          "output_type": "execute_result",
          "data": {
            "text/plain": [
              "['be confident.',\n",
              " 'smile.',\n",
              " 'place yourself in his path.',\n",
              " 'play it cool.',\n",
              " 'make him laugh.',\n",
              " 'be nice to his friends.',\n",
              " 'use the \"3 strikes and you\\'re out\" rule.',\n",
              " 'have a successful first date.',\n",
              " 'pay attention to his interests.',\n",
              " \"do n't take him for granted.\",\n",
              " 'maintain some space.',\n",
              " \"decide if he 's truly worth it.\",\n",
              " 'tell him how you feel.']"
            ]
          },
          "metadata": {
            "tags": []
          },
          "execution_count": 32
        }
      ]
    },
    {
      "cell_type": "markdown",
      "metadata": {
        "id": "f9hlsGax9ROd"
      },
      "source": [
        "2- Optimized implementation\n",
        "\n",
        "link : https://github.com/summanlp/textrank"
      ]
    },
    {
      "cell_type": "code",
      "metadata": {
        "colab": {
          "base_uri": "https://localhost:8080/"
        },
        "id": "KNJQFMnd9Y3t",
        "outputId": "39a15150-b354-4401-94dc-02afc955adb6"
      },
      "source": [
        "!pip install summa"
      ],
      "execution_count": 33,
      "outputs": [
        {
          "output_type": "stream",
          "text": [
            "Collecting summa\n",
            "\u001b[?25l  Downloading https://files.pythonhosted.org/packages/45/3b/1c7dc435d05aef474c4137328400f1e11787b9bffab1f87a3f160c1fef54/summa-1.2.0.tar.gz (54kB)\n",
            "\u001b[K     |████████████████████████████████| 61kB 4.4MB/s \n",
            "\u001b[?25hRequirement already satisfied: scipy>=0.19 in /usr/local/lib/python3.7/dist-packages (from summa) (1.4.1)\n",
            "Requirement already satisfied: numpy>=1.13.3 in /usr/local/lib/python3.7/dist-packages (from scipy>=0.19->summa) (1.19.5)\n",
            "Building wheels for collected packages: summa\n",
            "  Building wheel for summa (setup.py) ... \u001b[?25l\u001b[?25hdone\n",
            "  Created wheel for summa: filename=summa-1.2.0-cp37-none-any.whl size=54411 sha256=6d37c12c04df8e8b3991c30f6d4c8b60c547c2558bdec4ba727e2d00eb9a4825\n",
            "  Stored in directory: /root/.cache/pip/wheels/6a/09/68/e2f2861c01d86407c3fa5220826ed7eed2abaa56b001be5970\n",
            "Successfully built summa\n",
            "Installing collected packages: summa\n",
            "Successfully installed summa-1.2.0\n"
          ],
          "name": "stdout"
        }
      ]
    },
    {
      "cell_type": "code",
      "metadata": {
        "id": "gF2zAlKy9bAE"
      },
      "source": [
        "from summa.summarizer import summarize\n",
        "text = pair[0]+pair[1]\n",
        "predicted_summary = summarize(text, ratio=0.05)"
      ],
      "execution_count": 34,
      "outputs": []
    },
    {
      "cell_type": "code",
      "metadata": {
        "id": "LJdaVsVh9bfM"
      },
      "source": [
        "#ground truth summary \n",
        "true_summary = pair[0]"
      ],
      "execution_count": 35,
      "outputs": []
    },
    {
      "cell_type": "code",
      "metadata": {
        "colab": {
          "base_uri": "https://localhost:8080/"
        },
        "id": "pgAW6WdH9fBp",
        "outputId": "6d9d1002-0d24-4198-ad28-4cca4f2b88b8"
      },
      "source": [
        "!pip install rouge-score"
      ],
      "execution_count": 36,
      "outputs": [
        {
          "output_type": "stream",
          "text": [
            "Collecting rouge-score\n",
            "  Downloading https://files.pythonhosted.org/packages/1f/56/a81022436c08b9405a5247b71635394d44fe7e1dbedc4b28c740e09c2840/rouge_score-0.0.4-py2.py3-none-any.whl\n",
            "Requirement already satisfied: numpy in /usr/local/lib/python3.7/dist-packages (from rouge-score) (1.19.5)\n",
            "Requirement already satisfied: absl-py in /usr/local/lib/python3.7/dist-packages (from rouge-score) (0.12.0)\n",
            "Requirement already satisfied: nltk in /usr/local/lib/python3.7/dist-packages (from rouge-score) (3.6.1)\n",
            "Requirement already satisfied: six>=1.14.0 in /usr/local/lib/python3.7/dist-packages (from rouge-score) (1.15.0)\n",
            "Requirement already satisfied: tqdm in /usr/local/lib/python3.7/dist-packages (from nltk->rouge-score) (4.41.1)\n",
            "Requirement already satisfied: regex in /usr/local/lib/python3.7/dist-packages (from nltk->rouge-score) (2019.12.20)\n",
            "Requirement already satisfied: joblib in /usr/local/lib/python3.7/dist-packages (from nltk->rouge-score) (1.0.1)\n",
            "Requirement already satisfied: click in /usr/local/lib/python3.7/dist-packages (from nltk->rouge-score) (7.1.2)\n",
            "Installing collected packages: rouge-score\n",
            "Successfully installed rouge-score-0.0.4\n"
          ],
          "name": "stdout"
        }
      ]
    },
    {
      "cell_type": "code",
      "metadata": {
        "id": "F2bOlyI59fd2"
      },
      "source": [
        "from rouge_score import rouge_scorer\n",
        "\n",
        "scorer = rouge_scorer.RougeScorer(['rouge1', 'rouge2','rougeL'], use_stemmer=False)\n",
        "scores = scorer.score(true_summary,\n",
        "                      predicted_summary)"
      ],
      "execution_count": 38,
      "outputs": []
    },
    {
      "cell_type": "markdown",
      "metadata": {
        "id": "Nqer7Dsn9jvP"
      },
      "source": [
        "Function to Run TextRank on a number of articles and compute scores : ROUGE1, ROUGE2, ROUGEL, METEOR"
      ]
    },
    {
      "cell_type": "code",
      "metadata": {
        "id": "CCGGrk8A9hQc"
      },
      "source": [
        "directory = \"./articles\"\n",
        "def compute_scores(ratio,n):\n",
        "  ## n : number of articles on which we test textrank example : 10000\n",
        "  ## ratio : summary size percentage of article example :  0.2\n",
        "  mean_rouge1 = 0\n",
        "  mean_rougeL = 0\n",
        "  mean_rouge2 = 0\n",
        "  mean_meteor = 0\n",
        "  n_articles = 0\n",
        "  scorer = rouge_scorer.RougeScorer(['rouge1', 'rouge2','rougeL'], use_stemmer=False)\n",
        "  ### Loop over files in articles directory, predict summaries with textrank and compute scores\n",
        "  f = open('titles.txt','r')\n",
        "  for line in f.readlines():\n",
        "      n_articles+=1\n",
        "      w = open(directory+'/'+line.rstrip()+'.txt','r')\n",
        "      txt = w.read()\n",
        "      w.close()\n",
        "      txt = txt.replace('@summary','')\n",
        "      pair = re.split('@article',txt)\n",
        "      pair = list(map(lambda x : re.sub(r\"\\'s\", \" \\'s\", x),pair))\n",
        "      pair = list(map(lambda x :re.sub(r\"n\\'t\", \" n\\'t\", x),pair))\n",
        "      pair = list(map(lambda x : re.sub(r\"\\s{2,}\", \" \", x), pair))\n",
        "      pair = list(map(lambda x : x.strip(r\"\\n\"),pair))\n",
        "      pair = list(map(lambda x : x.strip(),pair))\n",
        "      pair = list(map(lambda x : x.replace('\\n',''),pair))\n",
        "      text = pair[0]+pair[1]\n",
        "      predicted_summary = summarize(text, ratio=ratio)\n",
        "      true_summary = pair[0]\n",
        "      scores = scorer.score(true_summary,\n",
        "                        predicted_summary)\n",
        "      score2 = metric.compute(predictions=[predicted_summary], references=[true_summary])\n",
        "\n",
        "      mean_rouge1 += scores['rouge1'].fmeasure\n",
        "      mean_rougeL += scores['rougeL'].fmeasure\n",
        "      mean_rouge2 += scores['rouge2'].fmeasure\n",
        "      mean_meteor += score2['meteor']\n",
        "      if n_articles == n :\n",
        "          break\n",
        "\n",
        "  mean_rouge1 = mean_rouge1/n_articles\n",
        "  mean_rougeL = mean_rougeL/n_articles\n",
        "  mean_rouge2 = mean_rouge2/n_articles\n",
        "  mean_meteor = mean_meteor/n_articles\n",
        "  f.close()\n",
        "  return(mean_rouge1,mean_rouge2,mean_rougeL,mean_meteor)"
      ],
      "execution_count": 51,
      "outputs": []
    },
    {
      "cell_type": "code",
      "metadata": {
        "colab": {
          "base_uri": "https://localhost:8080/"
        },
        "id": "yx_3h8sp9npz",
        "outputId": "58280d5f-fd50-4186-b0db-bf80dc7cb394"
      },
      "source": [
        "compute_scores(0.05,1000)"
      ],
      "execution_count": 52,
      "outputs": [
        {
          "output_type": "execute_result",
          "data": {
            "text/plain": [
              "(0.1943390271285373,\n",
              " 0.0702391474544891,\n",
              " 0.1259226341923782,\n",
              " 0.1397042998370221)"
            ]
          },
          "metadata": {
            "tags": []
          },
          "execution_count": 52
        }
      ]
    },
    {
      "cell_type": "code",
      "metadata": {
        "colab": {
          "base_uri": "https://localhost:8080/"
        },
        "id": "0ZwwiqwJScrl",
        "outputId": "6ed484b6-5053-4d82-bfc3-c83df0277c9a"
      },
      "source": [
        "compute_scores(0.1,1000)"
      ],
      "execution_count": 53,
      "outputs": [
        {
          "output_type": "execute_result",
          "data": {
            "text/plain": [
              "(0.27339272444900065,\n",
              " 0.11615919501938982,\n",
              " 0.1800780650891979,\n",
              " 0.2373434146881059)"
            ]
          },
          "metadata": {
            "tags": []
          },
          "execution_count": 53
        }
      ]
    },
    {
      "cell_type": "code",
      "metadata": {
        "colab": {
          "base_uri": "https://localhost:8080/"
        },
        "id": "IJ22MKN4S7k2",
        "outputId": "6b4a64c3-e409-4abb-8ae5-4e41b0af16c2"
      },
      "source": [
        "compute_scores(0.2,1000)"
      ],
      "execution_count": 54,
      "outputs": [
        {
          "output_type": "execute_result",
          "data": {
            "text/plain": [
              "(0.26416101568272954,\n",
              " 0.13528260471963324,\n",
              " 0.1779353885647301,\n",
              " 0.2874180843335402)"
            ]
          },
          "metadata": {
            "tags": []
          },
          "execution_count": 54
        }
      ]
    },
    {
      "cell_type": "code",
      "metadata": {
        "colab": {
          "base_uri": "https://localhost:8080/"
        },
        "id": "pboUIPmpV9KL",
        "outputId": "be6f99d7-a6de-40ce-fef9-9fa330f3139d"
      },
      "source": [
        "compute_scores(0.05,10000)"
      ],
      "execution_count": 55,
      "outputs": [
        {
          "output_type": "execute_result",
          "data": {
            "text/plain": [
              "(0.17784605670415424,\n",
              " 0.06197578506020388,\n",
              " 0.11353365363588588,\n",
              " 0.12194088068425424)"
            ]
          },
          "metadata": {
            "tags": []
          },
          "execution_count": 55
        }
      ]
    },
    {
      "cell_type": "code",
      "metadata": {
        "colab": {
          "base_uri": "https://localhost:8080/"
        },
        "id": "7sEcGkfCV_48",
        "outputId": "a546ed2d-4817-4b49-c1e6-f16167c700e4"
      },
      "source": [
        "compute_scores(0.1,10000)"
      ],
      "execution_count": 56,
      "outputs": [
        {
          "output_type": "execute_result",
          "data": {
            "text/plain": [
              "(0.27383158147561965,\n",
              " 0.11648594149182079,\n",
              " 0.17956909117734007,\n",
              " 0.22833840469835404)"
            ]
          },
          "metadata": {
            "tags": []
          },
          "execution_count": 56
        }
      ]
    },
    {
      "cell_type": "code",
      "metadata": {
        "colab": {
          "base_uri": "https://localhost:8080/"
        },
        "id": "jQION33-V_1g",
        "outputId": "a4bee793-13c5-49de-bcaf-756789f1791b"
      },
      "source": [
        "compute_scores(0.2,10000)"
      ],
      "execution_count": 57,
      "outputs": [
        {
          "output_type": "execute_result",
          "data": {
            "text/plain": [
              "(0.27680398361042363,\n",
              " 0.14322503454683883,\n",
              " 0.18697595989870253,\n",
              " 0.292527880586423)"
            ]
          },
          "metadata": {
            "tags": []
          },
          "execution_count": 57
        }
      ]
    },
    {
      "cell_type": "markdown",
      "metadata": {
        "id": "JHwRBbFf8tPm"
      },
      "source": [
        ""
      ]
    }
  ]
}