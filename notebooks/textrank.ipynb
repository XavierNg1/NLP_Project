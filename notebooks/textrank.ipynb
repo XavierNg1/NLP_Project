{
  "nbformat": 4,
  "nbformat_minor": 0,
  "metadata": {
    "colab": {
      "name": "textrank.ipynb",
      "provenance": [],
      "toc_visible": true
    },
    "kernelspec": {
      "name": "python3",
      "display_name": "Python 3"
    },
    "language_info": {
      "name": "python"
    },
    "widgets": {
      "application/vnd.jupyter.widget-state+json": {
        "478bdcba6c834fb9b7408afef4b5fab1": {
          "model_module": "@jupyter-widgets/controls",
          "model_name": "HBoxModel",
          "state": {
            "_view_name": "HBoxView",
            "_dom_classes": [],
            "_model_name": "HBoxModel",
            "_view_module": "@jupyter-widgets/controls",
            "_model_module_version": "1.5.0",
            "_view_count": null,
            "_view_module_version": "1.5.0",
            "box_style": "",
            "layout": "IPY_MODEL_556dfd241cd94df39fc17eb636f4e794",
            "_model_module": "@jupyter-widgets/controls",
            "children": [
              "IPY_MODEL_a875504dc4b74b94a59756f4d8423512",
              "IPY_MODEL_2d19fffcb2c1415a9f8d0986f98bdf27"
            ]
          }
        },
        "556dfd241cd94df39fc17eb636f4e794": {
          "model_module": "@jupyter-widgets/base",
          "model_name": "LayoutModel",
          "state": {
            "_view_name": "LayoutView",
            "grid_template_rows": null,
            "right": null,
            "justify_content": null,
            "_view_module": "@jupyter-widgets/base",
            "overflow": null,
            "_model_module_version": "1.2.0",
            "_view_count": null,
            "flex_flow": null,
            "width": null,
            "min_width": null,
            "border": null,
            "align_items": null,
            "bottom": null,
            "_model_module": "@jupyter-widgets/base",
            "top": null,
            "grid_column": null,
            "overflow_y": null,
            "overflow_x": null,
            "grid_auto_flow": null,
            "grid_area": null,
            "grid_template_columns": null,
            "flex": null,
            "_model_name": "LayoutModel",
            "justify_items": null,
            "grid_row": null,
            "max_height": null,
            "align_content": null,
            "visibility": null,
            "align_self": null,
            "height": null,
            "min_height": null,
            "padding": null,
            "grid_auto_rows": null,
            "grid_gap": null,
            "max_width": null,
            "order": null,
            "_view_module_version": "1.2.0",
            "grid_template_areas": null,
            "object_position": null,
            "object_fit": null,
            "grid_auto_columns": null,
            "margin": null,
            "display": null,
            "left": null
          }
        },
        "a875504dc4b74b94a59756f4d8423512": {
          "model_module": "@jupyter-widgets/controls",
          "model_name": "FloatProgressModel",
          "state": {
            "_view_name": "ProgressView",
            "style": "IPY_MODEL_a7a69a8b62d14e1f9bbaf32fdefbba3a",
            "_dom_classes": [],
            "description": "Downloading: ",
            "_model_name": "FloatProgressModel",
            "bar_style": "success",
            "max": 2055,
            "_view_module": "@jupyter-widgets/controls",
            "_model_module_version": "1.5.0",
            "value": 2055,
            "_view_count": null,
            "_view_module_version": "1.5.0",
            "orientation": "horizontal",
            "min": 0,
            "description_tooltip": null,
            "_model_module": "@jupyter-widgets/controls",
            "layout": "IPY_MODEL_7fd0ed84246f4b72a1796cd4e020e3f0"
          }
        },
        "2d19fffcb2c1415a9f8d0986f98bdf27": {
          "model_module": "@jupyter-widgets/controls",
          "model_name": "HTMLModel",
          "state": {
            "_view_name": "HTMLView",
            "style": "IPY_MODEL_ff56c8f01b1548d0b196bfb803b44093",
            "_dom_classes": [],
            "description": "",
            "_model_name": "HTMLModel",
            "placeholder": "​",
            "_view_module": "@jupyter-widgets/controls",
            "_model_module_version": "1.5.0",
            "value": " 4.63k/? [00:00&lt;00:00, 24.5kB/s]",
            "_view_count": null,
            "_view_module_version": "1.5.0",
            "description_tooltip": null,
            "_model_module": "@jupyter-widgets/controls",
            "layout": "IPY_MODEL_057be320f687461abebd055dd09fdb10"
          }
        },
        "a7a69a8b62d14e1f9bbaf32fdefbba3a": {
          "model_module": "@jupyter-widgets/controls",
          "model_name": "ProgressStyleModel",
          "state": {
            "_view_name": "StyleView",
            "_model_name": "ProgressStyleModel",
            "description_width": "initial",
            "_view_module": "@jupyter-widgets/base",
            "_model_module_version": "1.5.0",
            "_view_count": null,
            "_view_module_version": "1.2.0",
            "bar_color": null,
            "_model_module": "@jupyter-widgets/controls"
          }
        },
        "7fd0ed84246f4b72a1796cd4e020e3f0": {
          "model_module": "@jupyter-widgets/base",
          "model_name": "LayoutModel",
          "state": {
            "_view_name": "LayoutView",
            "grid_template_rows": null,
            "right": null,
            "justify_content": null,
            "_view_module": "@jupyter-widgets/base",
            "overflow": null,
            "_model_module_version": "1.2.0",
            "_view_count": null,
            "flex_flow": null,
            "width": null,
            "min_width": null,
            "border": null,
            "align_items": null,
            "bottom": null,
            "_model_module": "@jupyter-widgets/base",
            "top": null,
            "grid_column": null,
            "overflow_y": null,
            "overflow_x": null,
            "grid_auto_flow": null,
            "grid_area": null,
            "grid_template_columns": null,
            "flex": null,
            "_model_name": "LayoutModel",
            "justify_items": null,
            "grid_row": null,
            "max_height": null,
            "align_content": null,
            "visibility": null,
            "align_self": null,
            "height": null,
            "min_height": null,
            "padding": null,
            "grid_auto_rows": null,
            "grid_gap": null,
            "max_width": null,
            "order": null,
            "_view_module_version": "1.2.0",
            "grid_template_areas": null,
            "object_position": null,
            "object_fit": null,
            "grid_auto_columns": null,
            "margin": null,
            "display": null,
            "left": null
          }
        },
        "ff56c8f01b1548d0b196bfb803b44093": {
          "model_module": "@jupyter-widgets/controls",
          "model_name": "DescriptionStyleModel",
          "state": {
            "_view_name": "StyleView",
            "_model_name": "DescriptionStyleModel",
            "description_width": "",
            "_view_module": "@jupyter-widgets/base",
            "_model_module_version": "1.5.0",
            "_view_count": null,
            "_view_module_version": "1.2.0",
            "_model_module": "@jupyter-widgets/controls"
          }
        },
        "057be320f687461abebd055dd09fdb10": {
          "model_module": "@jupyter-widgets/base",
          "model_name": "LayoutModel",
          "state": {
            "_view_name": "LayoutView",
            "grid_template_rows": null,
            "right": null,
            "justify_content": null,
            "_view_module": "@jupyter-widgets/base",
            "overflow": null,
            "_model_module_version": "1.2.0",
            "_view_count": null,
            "flex_flow": null,
            "width": null,
            "min_width": null,
            "border": null,
            "align_items": null,
            "bottom": null,
            "_model_module": "@jupyter-widgets/base",
            "top": null,
            "grid_column": null,
            "overflow_y": null,
            "overflow_x": null,
            "grid_auto_flow": null,
            "grid_area": null,
            "grid_template_columns": null,
            "flex": null,
            "_model_name": "LayoutModel",
            "justify_items": null,
            "grid_row": null,
            "max_height": null,
            "align_content": null,
            "visibility": null,
            "align_self": null,
            "height": null,
            "min_height": null,
            "padding": null,
            "grid_auto_rows": null,
            "grid_gap": null,
            "max_width": null,
            "order": null,
            "_view_module_version": "1.2.0",
            "grid_template_areas": null,
            "object_position": null,
            "object_fit": null,
            "grid_auto_columns": null,
            "margin": null,
            "display": null,
            "left": null
          }
        }
      }
    }
  },
  "cells": [
    {
      "cell_type": "markdown",
      "metadata": {
        "id": "O9DKMcM5PWlP"
      },
      "source": [
        "## Extractive text summarization"
      ]
    },
    {
      "cell_type": "code",
      "metadata": {
        "colab": {
          "base_uri": "https://localhost:8080/"
        },
        "id": "CJYS2qm165T9",
        "outputId": "084b573d-50ea-46f5-dcdb-a6c5184aa372"
      },
      "source": [
        "import numpy as np # linear algebra\n",
        "import pandas as pd # data processing, CSV file I/O (e.g. pd.read_csv)\n",
        "import nltk\n",
        "nltk.download('punkt') # one time execution\n",
        "import re\n",
        "import os"
      ],
      "execution_count": 1,
      "outputs": [
        {
          "output_type": "stream",
          "text": [
            "[nltk_data] Downloading package punkt to /root/nltk_data...\n",
            "[nltk_data]   Unzipping tokenizers/punkt.zip.\n"
          ],
          "name": "stdout"
        }
      ]
    },
    {
      "cell_type": "code",
      "metadata": {
        "colab": {
          "base_uri": "https://localhost:8080/",
          "height": 306
        },
        "id": "Albw5b86BOgY",
        "outputId": "4479f0df-9f6f-4c78-be23-43d2e355bd41"
      },
      "source": [
        "!pip install --upgrade nltk"
      ],
      "execution_count": 2,
      "outputs": [
        {
          "output_type": "stream",
          "text": [
            "Collecting nltk\n",
            "\u001b[?25l  Downloading https://files.pythonhosted.org/packages/5e/37/9532ddd4b1bbb619333d5708aaad9bf1742f051a664c3c6fa6632a105fd8/nltk-3.6.2-py3-none-any.whl (1.5MB)\n",
            "\u001b[K     |████████████████████████████████| 1.5MB 5.4MB/s \n",
            "\u001b[?25hRequirement already satisfied, skipping upgrade: joblib in /usr/local/lib/python3.7/dist-packages (from nltk) (1.0.1)\n",
            "Requirement already satisfied, skipping upgrade: click in /usr/local/lib/python3.7/dist-packages (from nltk) (7.1.2)\n",
            "Requirement already satisfied, skipping upgrade: regex in /usr/local/lib/python3.7/dist-packages (from nltk) (2019.12.20)\n",
            "Requirement already satisfied, skipping upgrade: tqdm in /usr/local/lib/python3.7/dist-packages (from nltk) (4.41.1)\n",
            "Installing collected packages: nltk\n",
            "  Found existing installation: nltk 3.2.5\n",
            "    Uninstalling nltk-3.2.5:\n",
            "      Successfully uninstalled nltk-3.2.5\n",
            "Successfully installed nltk-3.6.2\n"
          ],
          "name": "stdout"
        },
        {
          "output_type": "display_data",
          "data": {
            "application/vnd.colab-display-data+json": {
              "pip_warning": {
                "packages": [
                  "nltk"
                ]
              }
            }
          },
          "metadata": {
            "tags": []
          }
        }
      ]
    },
    {
      "cell_type": "code",
      "metadata": {
        "colab": {
          "base_uri": "https://localhost:8080/"
        },
        "id": "AXQTYHBRQ1OO",
        "outputId": "4403a6e8-e782-405b-d141-769b64ef707d"
      },
      "source": [
        "nltk.download(\"stopwords\") "
      ],
      "execution_count": 3,
      "outputs": [
        {
          "output_type": "stream",
          "text": [
            "[nltk_data] Downloading package stopwords to /root/nltk_data...\n",
            "[nltk_data]   Unzipping corpora/stopwords.zip.\n"
          ],
          "name": "stdout"
        },
        {
          "output_type": "execute_result",
          "data": {
            "text/plain": [
              "True"
            ]
          },
          "metadata": {
            "tags": []
          },
          "execution_count": 3
        }
      ]
    },
    {
      "cell_type": "code",
      "metadata": {
        "id": "ENLWbT2zBl2Y",
        "colab": {
          "base_uri": "https://localhost:8080/",
          "height": 661,
          "referenced_widgets": [
            "478bdcba6c834fb9b7408afef4b5fab1",
            "556dfd241cd94df39fc17eb636f4e794",
            "a875504dc4b74b94a59756f4d8423512",
            "2d19fffcb2c1415a9f8d0986f98bdf27",
            "a7a69a8b62d14e1f9bbaf32fdefbba3a",
            "7fd0ed84246f4b72a1796cd4e020e3f0",
            "ff56c8f01b1548d0b196bfb803b44093",
            "057be320f687461abebd055dd09fdb10"
          ]
        },
        "outputId": "d2388fb2-03f5-4ce0-b2c4-49bc7fdcfb17"
      },
      "source": [
        "\n",
        "\n",
        "!pip install datasets\n",
        "from datasets import load_metric\n",
        "metric = load_metric(\"meteor\")"
      ],
      "execution_count": 4,
      "outputs": [
        {
          "output_type": "stream",
          "text": [
            "Collecting datasets\n",
            "\u001b[?25l  Downloading https://files.pythonhosted.org/packages/da/d6/a3d2c55b940a7c556e88f5598b401990805fc0f0a28b2fc9870cf0b8c761/datasets-1.6.0-py3-none-any.whl (202kB)\n",
            "\u001b[K     |████████████████████████████████| 204kB 6.1MB/s \n",
            "\u001b[?25hCollecting fsspec\n",
            "\u001b[?25l  Downloading https://files.pythonhosted.org/packages/e9/91/2ef649137816850fa4f4c97c6f2eabb1a79bf0aa2c8ed198e387e373455e/fsspec-2021.4.0-py3-none-any.whl (108kB)\n",
            "\u001b[K     |████████████████████████████████| 112kB 7.8MB/s \n",
            "\u001b[?25hRequirement already satisfied: numpy>=1.17 in /usr/local/lib/python3.7/dist-packages (from datasets) (1.19.5)\n",
            "Requirement already satisfied: importlib-metadata; python_version < \"3.8\" in /usr/local/lib/python3.7/dist-packages (from datasets) (3.10.1)\n",
            "Requirement already satisfied: multiprocess in /usr/local/lib/python3.7/dist-packages (from datasets) (0.70.11.1)\n",
            "Collecting huggingface-hub<0.1.0\n",
            "  Downloading https://files.pythonhosted.org/packages/a1/88/7b1e45720ecf59c6c6737ff332f41c955963090a18e72acbcbeac6b25e86/huggingface_hub-0.0.8-py3-none-any.whl\n",
            "Requirement already satisfied: requests>=2.19.0 in /usr/local/lib/python3.7/dist-packages (from datasets) (2.23.0)\n",
            "Requirement already satisfied: pandas in /usr/local/lib/python3.7/dist-packages (from datasets) (1.1.5)\n",
            "Collecting xxhash\n",
            "\u001b[?25l  Downloading https://files.pythonhosted.org/packages/7d/4f/0a862cad26aa2ed7a7cd87178cbbfa824fc1383e472d63596a0d018374e7/xxhash-2.0.2-cp37-cp37m-manylinux2010_x86_64.whl (243kB)\n",
            "\u001b[K     |████████████████████████████████| 245kB 7.4MB/s \n",
            "\u001b[?25hRequirement already satisfied: pyarrow>=1.0.0 in /usr/local/lib/python3.7/dist-packages (from datasets) (3.0.0)\n",
            "Requirement already satisfied: packaging in /usr/local/lib/python3.7/dist-packages (from datasets) (20.9)\n",
            "Requirement already satisfied: dill in /usr/local/lib/python3.7/dist-packages (from datasets) (0.3.3)\n",
            "Requirement already satisfied: tqdm<4.50.0,>=4.27 in /usr/local/lib/python3.7/dist-packages (from datasets) (4.41.1)\n",
            "Requirement already satisfied: typing-extensions>=3.6.4; python_version < \"3.8\" in /usr/local/lib/python3.7/dist-packages (from importlib-metadata; python_version < \"3.8\"->datasets) (3.7.4.3)\n",
            "Requirement already satisfied: zipp>=0.5 in /usr/local/lib/python3.7/dist-packages (from importlib-metadata; python_version < \"3.8\"->datasets) (3.4.1)\n",
            "Requirement already satisfied: filelock in /usr/local/lib/python3.7/dist-packages (from huggingface-hub<0.1.0->datasets) (3.0.12)\n",
            "Requirement already satisfied: certifi>=2017.4.17 in /usr/local/lib/python3.7/dist-packages (from requests>=2.19.0->datasets) (2020.12.5)\n",
            "Requirement already satisfied: idna<3,>=2.5 in /usr/local/lib/python3.7/dist-packages (from requests>=2.19.0->datasets) (2.10)\n",
            "Requirement already satisfied: urllib3!=1.25.0,!=1.25.1,<1.26,>=1.21.1 in /usr/local/lib/python3.7/dist-packages (from requests>=2.19.0->datasets) (1.24.3)\n",
            "Requirement already satisfied: chardet<4,>=3.0.2 in /usr/local/lib/python3.7/dist-packages (from requests>=2.19.0->datasets) (3.0.4)\n",
            "Requirement already satisfied: python-dateutil>=2.7.3 in /usr/local/lib/python3.7/dist-packages (from pandas->datasets) (2.8.1)\n",
            "Requirement already satisfied: pytz>=2017.2 in /usr/local/lib/python3.7/dist-packages (from pandas->datasets) (2018.9)\n",
            "Requirement already satisfied: pyparsing>=2.0.2 in /usr/local/lib/python3.7/dist-packages (from packaging->datasets) (2.4.7)\n",
            "Requirement already satisfied: six>=1.5 in /usr/local/lib/python3.7/dist-packages (from python-dateutil>=2.7.3->pandas->datasets) (1.15.0)\n",
            "Installing collected packages: fsspec, huggingface-hub, xxhash, datasets\n",
            "Successfully installed datasets-1.6.0 fsspec-2021.4.0 huggingface-hub-0.0.8 xxhash-2.0.2\n"
          ],
          "name": "stdout"
        },
        {
          "output_type": "display_data",
          "data": {
            "application/vnd.jupyter.widget-view+json": {
              "model_id": "478bdcba6c834fb9b7408afef4b5fab1",
              "version_minor": 0,
              "version_major": 2
            },
            "text/plain": [
              "HBox(children=(FloatProgress(value=0.0, description='Downloading', max=2055.0, style=ProgressStyle(description…"
            ]
          },
          "metadata": {
            "tags": []
          }
        },
        {
          "output_type": "stream",
          "text": [
            "\n",
            "[nltk_data] Downloading package wordnet to /root/nltk_data...\n",
            "[nltk_data]   Unzipping corpora/wordnet.zip.\n"
          ],
          "name": "stdout"
        }
      ]
    },
    {
      "cell_type": "markdown",
      "metadata": {
        "id": "9noztIJMPA5r"
      },
      "source": [
        "install wikihowAll.csv from this url  https://ucsb.app.box.com/s/ap23l8gafpezf4tq3wapr6u8241zz358 and put it in your drive . Then mount your drive to colab in following cell"
      ]
    },
    {
      "cell_type": "code",
      "metadata": {
        "colab": {
          "base_uri": "https://localhost:8080/"
        },
        "id": "SVuJymZMN5B9",
        "outputId": "7abe9204-06af-49b0-9f1e-24880086dee7"
      },
      "source": [
        "from google.colab import drive\n",
        "drive.mount(\"/content/drive\")"
      ],
      "execution_count": 5,
      "outputs": [
        {
          "output_type": "stream",
          "text": [
            "Mounted at /content/drive\n"
          ],
          "name": "stdout"
        }
      ]
    },
    {
      "cell_type": "code",
      "metadata": {
        "id": "l7n29DWJ7wGa"
      },
      "source": [
        "'''\n",
        "This code is used to create article and summary files from the csv file.\n",
        "The output of the file will be a directory of text files representing seoarate articles and their summaries.\n",
        "Each summary line starts with tag \"@summary\" and the article is followed by \"@article\".\n",
        "'''\n",
        "\n",
        "import os\n",
        "\n",
        "\n",
        "# read data from the csv file (from the location it is stored)\n",
        "Data = pd.read_csv(r'/content/drive/MyDrive/wikihowAll.csv')\n",
        "Data = Data.astype(str)\n",
        "rows, columns = Data.shape\n",
        "\n",
        "# create a file to record the file names. This can be later used to divide the dataset in train/dev/test sets\n",
        "title_file = open('titles.txt', 'wb')\n",
        "\n",
        "# The path where the articles are to be saved\n",
        "path = \"articles\"\n",
        "if not os.path.exists(path): os.makedirs(path)\n",
        "\n",
        "# go over the all the articles in the data file\n",
        "for row in range(rows):\n",
        "    abstract = Data.loc[row,'headline']      # headline is the column representing the summary sentences\n",
        "    article = Data.loc[row,'text']           # text is the column representing the article\n",
        "\n",
        "    #  a threshold is used to remove short articles with long summaries as well as articles with no summary\n",
        "    if len(abstract) < (0.75*len(article)):\n",
        "        # remove extra commas in abstracts\n",
        "        abstract = abstract.replace(\".,\",\".\")\n",
        "        abstract = abstract.encode('utf-8')\n",
        "        # remove extra commas in articles\n",
        "        article = re.sub(r'[.]+[\\n]+[,]',\".\\n\", article)\n",
        "        article = article.encode('utf-8')\n",
        "        \n",
        "\n",
        "        # a temporary file is created to initially write the summary, it is later used to separate the sentences of the summary\n",
        "        with open('temporaryFile.txt','wb') as t:\n",
        "            t.write(abstract)\n",
        "        \n",
        "        # file names are created using the alphanumeric charachters from the article titles.\n",
        "        # they are stored in a separate text file.\n",
        "        filename = Data.loc[row,'title']\n",
        "        filename = \"\".join(x for x in filename if x.isalnum())\n",
        "        filename1 = filename + '.txt'\n",
        "        filename = filename.encode('utf-8')\n",
        "        title_file.write(filename+b'\\n')\n",
        "\n",
        "        \n",
        "        with open(path+'/'+filename1,'wb') as f:\n",
        "            # summary sentences will first be written into the file in separate lines\n",
        "            with open('temporaryFile.txt','r') as t:\n",
        "                for line in t:\n",
        "                    line=line.lower()\n",
        "                    if line != \"\\n\" and line != \"\\t\" and line != \" \":\n",
        "                        f.write(b'@summary'+b'\\n')\n",
        "                        f.write(line.encode('utf-8'))\n",
        "                        f.write(b'\\n')\n",
        "                    \n",
        "            # finally the article is written to the file\n",
        "            f.write(b'@article' + b'\\n')    \n",
        "            f.write(article)\n",
        "\n",
        "title_file.close()"
      ],
      "execution_count": 6,
      "outputs": []
    },
    {
      "cell_type": "markdown",
      "metadata": {
        "id": "qOtrA81o8VOX"
      },
      "source": [
        "I- Naive implementation : <br>\n",
        "Test text rank on one article"
      ]
    },
    {
      "cell_type": "code",
      "metadata": {
        "colab": {
          "base_uri": "https://localhost:8080/"
        },
        "id": "fjTT6Mwy8RRr",
        "outputId": "5b2eac56-17a6-41ab-a967-6c7304bc95df"
      },
      "source": [
        "f = open('./articles/HowtoWinHisHeart.txt','r')\n",
        "txt = f.read()\n",
        "txt = txt.replace('@summary','')\n",
        "pair = re.split('@article',txt)\n",
        "pair = list(map(lambda x : re.sub(r\"\\'s\", \" \\'s\", x),pair))\n",
        "pair = list(map(lambda x :re.sub(r\"n\\'t\", \" n\\'t\", x),pair))\n",
        "pair = list(map(lambda x : re.sub(r\"\\s{2,}\", \" \", x), pair))\n",
        "pair = list(map(lambda x : x.strip(r\"\\n\"),pair))\n",
        "pair = list(map(lambda x : x.strip(),pair))\n",
        "pair = list(map(lambda x : x.replace('\\n',''),pair))\n",
        "pair"
      ],
      "execution_count": 9,
      "outputs": [
        {
          "output_type": "execute_result",
          "data": {
            "text/plain": [
              "['be confident. smile. place yourself in his path. play it cool. make him laugh. be nice to his friends. use the \"3 strikes and you\\'re out\" rule. have a successful first date. pay attention to his interests. do n\\'t take him for granted. maintain some space. decide if he \\'s truly worth it. tell him how you feel.',\n",
              " 'The most important way you can attract the guy of your dreams is to be confident and content in your own self. You can do this by wearing a cute outfit, doing something new with your hair, trying a new makeup style, or simply just thinking positively, because confidence is one of the most attractive traits a person can possibly have and it will make you less anxious about failure, which makes it hard to take the leap and into a potential relationship. Do n\\'t judge yourself or others harshly. When you focus on all your flaws that is all that you\\'ll think you have to offer and when you focus on the flaws of others, you are making your own brain toxic with negative thoughts.Do n\\'t compare yourself to other people. Someone is always going to be more attractive than you, more successful than you, and have more romantic partners than you. Focus on the things that you have rather than the things that other people have.;, If you want people to notice you, especially that guy of your dreams, you should send a little smile in his direction and cultivate a positive attitude. Even better make eye contact with your chosen sweetheart and give him a little smile. It\\'ll signal your interest in a non-threatening way and, perhaps, intrigue him., Now this does n\\'t mean that you should go around stalking him wherever he goes, but if you know that he likes to frequent a particular coffee shop or book store, feel free to spend some time there and \"bump\" into him. It\\'ll give you a little chance to talk to one another without a bunch of people around like at a party.Do n\\'t do this all the time, or he\\'ll think that you\\'re stalking him. Once or twice is the ticket, before it becomes obvious what you\\'re up to. (There is nothing wrong with straightforwardly asking him out, but if you\\'re not feeling bold enough this is a good way to work up the nerve to winning him over). You do n\\'t want to be super overt and clingy about trying to win your guy \\'s heart, because you wo n\\'t come off very well. However, this does n\\'t mean that you need to hide your interest or pretend not to be interested. You simply want to make it so that you are interested but not overwhelming. You could try dropping a compliment or two; something that is n\\'t overwhelming (overwhelming would be \"you\\'re the most gorgeous guy I\\'ve ever met\") like \"hey that shirt is really awesome\" or \"I really like your new haircut.\"Show that you have a life outside of thinking about him. When the two of you do talk, just casually mention some of the fun things you\\'ve done that week (even if it \\'s things like the awesome book you read, or video game tournament you participated in, or the soccer game you won). It shows that you have interests and a life of your own.When you run into him, after chatting for a bit, say that you have to run to meet a friend or that you have to be somewhere. That way you\\'ll come across as having things to do and people to see, rather than someone who is waiting around to bump into him. Oftentimes the key to a person \\'s heart is through their humor. The saying goes \"the couple that laughs together, stays together.\" If you get him laughing at things you\\'re saying you\\'ll make him enjoy your company more and want to be around you more often. A good way to do this is to mention something that is slightly embarrassing or humbling that happened to you. Mention the time you mistook a stranger for your best friend and slapped them on the butt, or how on the way to the date you missed a step on the bus and fell out the door in front of everyone. It shows that you do n\\'t take yourself too seriously and that you can laugh at yourself.You do n\\'t need to belittle yourself or talk about how stupid you are. A confident person does n\\'t need to belittle themselves, because they know that they are awesome! And confidence is attractive! , He will listen to his friends\\' advice about whether or not to date you, so you\\'ll want to make sure that you\\'re number one their list. This does n\\'t mean that you need to agree with everything they say or that you should let them walk all over you (if his friends are that bad, though, you should rethink the guy you\\'re wanting to attract), but it does mean that you\\'re nice to them. When you\\'re out with him and his friends, really listen to what they say and show that you have interest in their interests. You do n\\'t have to pretend to be an expert in what they\\'re talking about if you\\'re not. Simply ask some questions and listen.Do n\\'t feel like you should sit on the sidelines when you\\'re around him and his friends. Participate in activities and introduce them to things that you like and you think they might like. It\\'ll show that you have respect for them and that you\\'re interested in getting to know them better. This rule allows you to avoid committing yourself to a courtship that is basically going nowhere, because who has the energy for that? It means that if you\\'ve given him opportunities to try to get to know you better and he has n\\'t jumped at the chance after 3 tries, then he \\'s probably not worth further effort. If you think that maybe he is interested but simply shy, there is no reason that you should n\\'t ask him out instead. That way, even if he does say \"no,\" you will have a firm answer and wo n\\'t be left wondering.The reason this is a good rule to follow is that you do n\\'t really want to be after him like a lovesick, desperate puppy. If he has n\\'t shown interest after awhile, he \\'s not going to, or he \\'s only going to show interest in having sex with you because he knows that you\\'re desperate (stay as far away from guys like that as you possibly can). Unless you\\'re only interested in sex, you\\'ll end up hurt by this arrangement.An example of this in action might be you meeting him at a party and chatting with him, then popping in by his favorite coffee shop and running into him there and then chatting with him in class later. If you\\'ve given him openings to ask you on a date (or even for coffee), and he has n\\'t gone for it after those 3 times, stop trying and move on. Now that you\\'ve gotten past the flirting stage, you\\'ll need to have that first date. A good way to win his heart is to have a successful first date that you both enjoy. It\\'ll will make him want to spend more time with you. Make sure that you have topics to talk about, because it can be awkward during a first date not to blurt out something that is more appropriate for a closer relationship (probably not a good time to go into your anxiety problems). Some conversation starters might be: what are your typical Sunday activities, what is a band or album that you loved, what was the last movie that you saw and what did you think about it, what is the funniest thing you\\'ve ever seen in public. Dress appropriately. This means that you wear something that you feel comfortable in, but which also suits the occasion. So if you\\'re off to a 4-star restaurant, something a little fancier is in order (a dress, or nice slacks and a nice button-up or blouse). If you\\'re going to a coffee shop, dress just a little nicer than your usual attire (button down instead of t-shirt, no ratty jeans, etc.).Remember that you want to be yourself for the date. You do n\\'t want your guy to be expecting you to be someone you\\'re not further in the relationship. That \\'s not fair to either of you. You do n\\'t have to bring all your quirks out into the open right away, but you should n\\'t be hiding things. A good way to let someone know that you\\'re interested in them and care about them is to take an interest in their interests and in their opinions about things. You do n\\'t have to understand those interests and you do n\\'t even necessarily have to enjoy them, but being interested enough to talk with your guy about them, will show him that you are interested in him. For example, if your guy is super into skiing and you\\'re more the bookish type, that \\'s okay! Make sure to ask him about his ski trips and even offer to go a few rounds yourself. Pick up on some of the terminology so that you\\'re able to converse more freely.Make sure that he \\'s also respecting and interested in your interests and hobbies. If he is n\\'t, that \\'s a pretty good sign that he \\'s either a narcissist or not very committed to having a relationship with you. There is nothing that makes someone feel good and cared about than by showing them that they are not being taken for granted. Find ways to demonstrate to him that you notice what he does for you and that you appreciate him in your life. Flat out saying \"I am so glad you\\'re in my life\" is a good and easy way to make sure he knows that you value him.Do some little things that show you appreciate him. If you\\'re crafty you could make him something (knit a hat, carve a special little box, paint a picture).Also, you could do something thoughtful for him, especially if he \\'s having a really busy or difficult time. Bring him some special cookies, or help him by editing his resume or essay, offer to drive his sister to the airport so he can get some extra studying in. This step is important for both of you. You do n\\'t want to enter into a co-dependent, ca n\\'t-breath-without-you kind of a relationship, as much as the movies make it look nice. Make sure that you\\'re both getting some space from each other and from the relationship. Maintain your relationships with your friends. Hang out with them. Have sleepovers and movie watching parties that are just with your friends, no significant others allowed.Pursue your hobbies and interests. Go on ski trips by yourself or with your family, go to knitting workshops, learn karate. This way, when the two of you are together again, you\\'ll have so much to talk about! , Maybe in the beginning he seemed like such a great guy, but it \\'s a good idea to check in with the relationship before you start doing a bunch of stuff to win his heart. You want to make sure that his heart is actually what you want, or even if it \\'s possible to win his heart. Obviously if he \\'s emotionally, physically, or sexually abusive, you should get away now. If he isolates you from friends and family, if he demeans you or tears you down either in private or in front of people, if he manipulates you or forces you to have sex when you do n\\'t want to, if he says he\\'ll kill himself if you ever leave him, any of these signs mean that you should get out.Some questions to ask yourself about your relationship: are the two of you open and honest with each other? Do you feel better with him, or do you feel like you\\'re walking on eggshells? Does he respect you? Do you feel like you\\'re the best version of your self when you\\'re with him? Does he?You should n\\'t ever feel like you need to \"fix him\" or \"make him better.\" You should be in a relationship with someone who does n\\'t need you to be their therapist or their mother. Sometimes the absolute best way to get what you want in a guy is to tell him how you feel and ask him if he feels the same way. Often you can hint and hint for ages and do everything you\\'re \"supposed\" to do and still you wo n\\'t know whether you\\'ve won his heart.Be open and direct. Tell him that you really like him and that you want to see how he feels about you, or how he might feel about you in the future.Be ready to hear the answer, even if it is n\\'t one that you want to hear. He might not feel the same way about you that you feel about him and that \\'s okay. Remember, it \\'s his loss not yours.']"
            ]
          },
          "metadata": {
            "tags": []
          },
          "execution_count": 9
        }
      ]
    },
    {
      "cell_type": "markdown",
      "metadata": {
        "id": "zxj8Np_M8hOv"
      },
      "source": [
        "Split to sentences"
      ]
    },
    {
      "cell_type": "code",
      "metadata": {
        "id": "N4QQTsqq8gun"
      },
      "source": [
        "from nltk.tokenize import sent_tokenize\n",
        "import random\n",
        "sentences = sent_tokenize(pair[1])\n",
        "sentences_summary = sent_tokenize(pair[0])\n",
        "#sentences = sentences + sentences_summary\n",
        "random.shuffle(sentences)"
      ],
      "execution_count": 16,
      "outputs": []
    },
    {
      "cell_type": "markdown",
      "metadata": {
        "id": "EYbbeaBX8jXx"
      },
      "source": [
        "Get word embeddings"
      ]
    },
    {
      "cell_type": "code",
      "metadata": {
        "colab": {
          "base_uri": "https://localhost:8080/"
        },
        "id": "XNBjmom78lLV",
        "outputId": "8b0f5e25-bd3a-4cc6-ec6d-d5aa6b51c6f9"
      },
      "source": [
        "!wget http://nlp.stanford.edu/data/glove.6B.zip\n",
        "!unzip glove*.zip"
      ],
      "execution_count": 11,
      "outputs": [
        {
          "output_type": "stream",
          "text": [
            "--2021-04-22 18:49:07--  http://nlp.stanford.edu/data/glove.6B.zip\n",
            "Resolving nlp.stanford.edu (nlp.stanford.edu)... 171.64.67.140\n",
            "Connecting to nlp.stanford.edu (nlp.stanford.edu)|171.64.67.140|:80... connected.\n",
            "HTTP request sent, awaiting response... 302 Found\n",
            "Location: https://nlp.stanford.edu/data/glove.6B.zip [following]\n",
            "--2021-04-22 18:49:08--  https://nlp.stanford.edu/data/glove.6B.zip\n",
            "Connecting to nlp.stanford.edu (nlp.stanford.edu)|171.64.67.140|:443... connected.\n",
            "HTTP request sent, awaiting response... 301 Moved Permanently\n",
            "Location: http://downloads.cs.stanford.edu/nlp/data/glove.6B.zip [following]\n",
            "--2021-04-22 18:49:08--  http://downloads.cs.stanford.edu/nlp/data/glove.6B.zip\n",
            "Resolving downloads.cs.stanford.edu (downloads.cs.stanford.edu)... 171.64.64.22\n",
            "Connecting to downloads.cs.stanford.edu (downloads.cs.stanford.edu)|171.64.64.22|:80... connected.\n",
            "HTTP request sent, awaiting response... 200 OK\n",
            "Length: 862182613 (822M) [application/zip]\n",
            "Saving to: ‘glove.6B.zip’\n",
            "\n",
            "glove.6B.zip        100%[===================>] 822.24M  5.03MB/s    in 2m 46s  \n",
            "\n",
            "2021-04-22 18:51:54 (4.96 MB/s) - ‘glove.6B.zip’ saved [862182613/862182613]\n",
            "\n",
            "Archive:  glove.6B.zip\n",
            "  inflating: glove.6B.50d.txt        \n",
            "  inflating: glove.6B.100d.txt       \n",
            "  inflating: glove.6B.200d.txt       \n",
            "  inflating: glove.6B.300d.txt       \n"
          ],
          "name": "stdout"
        }
      ]
    },
    {
      "cell_type": "markdown",
      "metadata": {
        "id": "s1VzesC88qf9"
      },
      "source": [
        "Extract word vectors"
      ]
    },
    {
      "cell_type": "code",
      "metadata": {
        "id": "5BoJflpR8nYv"
      },
      "source": [
        "# Extract word vectors\n",
        "\n",
        "word_embeddings = {}\n",
        "f = open('glove.6B.100d.txt', encoding='utf-8')\n",
        "for line in f:\n",
        "    values = line.split()\n",
        "    word = values[0]\n",
        "    coefs = np.asarray(values[1:], dtype='float32')\n",
        "    word_embeddings[word] = coefs\n",
        "f.close()"
      ],
      "execution_count": 17,
      "outputs": []
    },
    {
      "cell_type": "code",
      "metadata": {
        "colab": {
          "base_uri": "https://localhost:8080/"
        },
        "id": "vqO7yM4N8wR5",
        "outputId": "975d3ecf-9f4c-4915-be4f-b74c37551c6b"
      },
      "source": [
        "len(word_embeddings)"
      ],
      "execution_count": 18,
      "outputs": [
        {
          "output_type": "execute_result",
          "data": {
            "text/plain": [
              "400000"
            ]
          },
          "metadata": {
            "tags": []
          },
          "execution_count": 18
        }
      ]
    },
    {
      "cell_type": "markdown",
      "metadata": {
        "id": "xPvXccTi80Fa"
      },
      "source": [
        "Additional preprocessing"
      ]
    },
    {
      "cell_type": "code",
      "metadata": {
        "colab": {
          "base_uri": "https://localhost:8080/"
        },
        "id": "iNcBQ8Au8w6-",
        "outputId": "5e1a2aa8-3b73-4e28-def1-34b83b656221"
      },
      "source": [
        "# remove punctuations, numbers and special characters\n",
        "clean_sentences = pd.Series(sentences).str.replace(\"[^a-zA-Z]\", \" \")\n",
        "\n",
        "# make alphabets lowercase\n",
        "clean_sentences = [s.lower() for s in clean_sentences]\n",
        "from nltk.corpus import stopwords\n",
        "stop_words = stopwords.words('english')\n",
        "# function to remove stopwords\n",
        "def remove_stopwords(sen):\n",
        "   sen_new = \" \".join([i for i in sen if i not in stop_words])\n",
        "   return sen_new\n",
        "# remove stopwords from the sentences\n",
        "clean_sentences = [remove_stopwords(r.split()) for r in clean_sentences]\n",
        "clean_sentences"
      ],
      "execution_count": 20,
      "outputs": [
        {
          "output_type": "execute_result",
          "data": {
            "text/plain": [
              "['friends really listen say show interest interests',\n",
              " 'way even say firm answer wo n left wondering reason good rule follow n really want like lovesick desperate puppy',\n",
              " 'remember loss',\n",
              " 'way two together much talk',\n",
              " 'focus things rather things people',\n",
              " 'bring special cookies help editing resume essay offer drive sister airport get extra studying',\n",
              " 'n pretty good sign either narcissist committed relationship',\n",
              " 'twice ticket becomes obvious',\n",
              " 'shows n take seriously laugh n need belittle talk stupid',\n",
              " 'confidence attractive',\n",
              " 'saying goes couple laughs together stays together',\n",
              " 'sometimes absolute best way get want guy tell feel ask feels way',\n",
              " 'feel better feel like walking eggshells',\n",
              " 'n judge others harshly',\n",
              " 'wearing cute outfit something new hair trying new makeup style simply thinking positively confidence one attractive traits person possibly make less anxious failure makes hard take leap potential relationship',\n",
              " 'often hint hint ages everything supposed still wo n know whether heart open direct',\n",
              " 'signal interest non threatening way perhaps intrigue n mean go around stalking wherever goes know likes frequent particular coffee shop book store feel free spend time bump',\n",
              " 'gotten past flirting stage need first date',\n",
              " 'n want enter co dependent ca n breath without kind relationship much movies make look nice',\n",
              " 'n want guy expecting someone relationship',\n",
              " 'get laughing things saying make enjoy company want around often',\n",
              " 'maintain relationships friends',\n",
              " 'respect',\n",
              " 'confident person n need belittle know awesome',\n",
              " 'show respect interested getting know better',\n",
              " 'good way let someone know interested care take interest interests opinions things',\n",
              " 'isolates friends family demeans tears either private front people manipulates forces sex n want says kill ever leave signs mean get questions ask relationship two open honest',\n",
              " 'means given opportunities try get know better n jumped chance tries probably worth effort',\n",
              " 'remember want date',\n",
              " 'two talk casually mention fun things done week even things like awesome book read video game tournament participated soccer game',\n",
              " 'mention time mistook stranger best friend slapped butt way date missed step bus fell door front everyone',\n",
              " 'make sure ask ski trips even offer go rounds',\n",
              " 'make want spend time',\n",
              " 'participate activities introduce things like think might like',\n",
              " 'crafty could make something knit hat carve special little box paint picture also could something thoughtful especially really busy difficult time',\n",
              " 'good way win heart successful first date enjoy',\n",
              " 'think maybe interested simply shy reason n ask instead',\n",
              " 'conversation starters might typical sunday activities band album loved last movie saw think funniest thing ever seen public',\n",
              " 'feel like best version self',\n",
              " 'n ever feel like need fix make better',\n",
              " 'go ski trips family go knitting workshops learn karate',\n",
              " 'even better make eye contact chosen sweetheart give little smile',\n",
              " 'relationship someone n need therapist mother',\n",
              " 'going coffee shop dress little nicer usual attire button instead shirt ratty jeans etc',\n",
              " 'n mean need agree everything say let walk friends bad though rethink guy wanting attract mean nice',\n",
              " 'pick terminology able converse freely make sure also respecting interested interests hobbies',\n",
              " 'star restaurant something little fancier order dress nice slacks nice button blouse',\n",
              " 'could try dropping compliment two something n overwhelming overwhelming would gorgeous guy ever met like hey shirt really awesome really like new haircut',\n",
              " 'maybe beginning seemed like great guy good idea check relationship start bunch stuff win heart',\n",
              " 'simply ask questions listen n feel like sit sidelines around friends',\n",
              " 'obviously emotionally physically sexually abusive get away',\n",
              " 'n shown interest awhile going going show interest sex knows desperate stay far away guys like possibly',\n",
              " 'shows interests life run chatting bit say run meet friend somewhere',\n",
              " 'oftentimes key person heart humor',\n",
              " 'flat saying glad life good easy way make sure knows value little things show appreciate',\n",
              " 'simply want make interested overwhelming',\n",
              " 'n bring quirks open right away n hiding things',\n",
              " 'give little chance talk one another without bunch people around like party n time think stalking',\n",
              " 'might feel way feel okay',\n",
              " 'important way attract guy dreams confident content self',\n",
              " 'dress appropriately',\n",
              " 'means wear something feel comfortable also suits occasion',\n",
              " 'show life outside thinking',\n",
              " 'n want super overt clingy trying win guy heart wo n come well',\n",
              " 'n understand interests n even necessarily enjoy interested enough talk guy show interested',\n",
              " 'focus flaws think offer focus flaws others making brain toxic negative thoughts n compare people',\n",
              " 'hang',\n",
              " 'someone always going attractive successful romantic partners',\n",
              " 'however n mean need hide interest pretend interested',\n",
              " 'way come across things people see rather someone waiting around bump',\n",
              " 'nothing makes someone feel good cared showing taken granted',\n",
              " 'nothing wrong straightforwardly asking feeling bold enough good way work nerve winning',\n",
              " 'step important',\n",
              " 'tell really like want see feels might feel future ready hear answer even n one want hear',\n",
              " 'sleepovers movie watching parties friends significant others allowed pursue hobbies interests',\n",
              " 'listen friends advice whether date want make sure number one list',\n",
              " 'make sure topics talk awkward first date blurt something appropriate closer relationship probably good time go anxiety problems',\n",
              " 'fair either',\n",
              " 'make sure getting space relationship',\n",
              " 'good way mention something slightly embarrassing humbling happened',\n",
              " 'find ways demonstrate notice appreciate life',\n",
              " 'want make sure heart actually want even possible win heart',\n",
              " 'given openings ask date even coffee n gone times stop trying move',\n",
              " 'unless interested sex end hurt arrangement example action might meeting party chatting popping favorite coffee shop running chatting class later',\n",
              " 'n pretend expert talking',\n",
              " 'want people notice especially guy dreams send little smile direction cultivate positive attitude',\n",
              " 'rule allows avoid committing courtship basically going nowhere energy',\n",
              " 'example guy super skiing bookish type okay']"
            ]
          },
          "metadata": {
            "tags": []
          },
          "execution_count": 20
        }
      ]
    },
    {
      "cell_type": "markdown",
      "metadata": {
        "id": "XGaaviFl85EF"
      },
      "source": [
        "\n",
        "Compute word embedding of each sentence as mean of the word embeddings of words"
      ]
    },
    {
      "cell_type": "code",
      "metadata": {
        "id": "3TuyZD3L87L8"
      },
      "source": [
        "sentence_vectors = []\n",
        "for i in clean_sentences:\n",
        "    if len(i) != 0:\n",
        "        v = sum([word_embeddings.get(w, np.zeros((100,))) for w in i.split()])/(len(i.split())+0.001)\n",
        "    else:\n",
        "        v = np.zeros((100,))\n",
        "    sentence_vectors.append(v)"
      ],
      "execution_count": 21,
      "outputs": []
    },
    {
      "cell_type": "markdown",
      "metadata": {
        "id": "oz7vDT6O8-PB"
      },
      "source": [
        "Compute similarity matrix between two sentences\n"
      ]
    },
    {
      "cell_type": "code",
      "metadata": {
        "id": "kwc0uEdg9ApY"
      },
      "source": [
        "# similarity matrix\n",
        "from sklearn.metrics.pairwise import cosine_similarity\n",
        "sim_mat = np.zeros([len(sentences), len(sentences)])\n",
        "for i in range(len(sentences)):\n",
        "    for j in range(len(sentences)):\n",
        "        if i != j:\n",
        "            sim_mat[i][j] = cosine_similarity(sentence_vectors[i].reshape(1,100), sentence_vectors[j].reshape(1,100))[0,0]\n"
      ],
      "execution_count": 22,
      "outputs": []
    },
    {
      "cell_type": "markdown",
      "metadata": {
        "id": "PIEJCuxK9C7b"
      },
      "source": [
        "Use graph theory's algorithm Page rank to rank sentences"
      ]
    },
    {
      "cell_type": "code",
      "metadata": {
        "id": "sFRBXqNn9Dc4"
      },
      "source": [
        "import networkx as nx\n",
        "\n",
        "nx_graph = nx.from_numpy_array(sim_mat)\n",
        "scores = nx.pagerank(nx_graph)\n",
        "ranked_sentences = sorted(((scores[i],s) for i,s in enumerate(sentences)), reverse=True)"
      ],
      "execution_count": 23,
      "outputs": []
    },
    {
      "cell_type": "markdown",
      "metadata": {
        "id": "XkshP9uH9GTV"
      },
      "source": [
        "Now u can specify the number of sentences u want in your summary and print ur summary"
      ]
    },
    {
      "cell_type": "code",
      "metadata": {
        "colab": {
          "base_uri": "https://localhost:8080/"
        },
        "id": "1-K5veL89I0h",
        "outputId": "9b38a618-adbe-4404-fdd5-b6092a0e5870"
      },
      "source": [
        "sn = 2\n",
        "for i in range(sn):\n",
        "    print(ranked_sentences[i][1])"
      ],
      "execution_count": 24,
      "outputs": [
        {
          "output_type": "stream",
          "text": [
            "Flat out saying \"I am so glad you're in my life\" is a good and easy way to make sure he knows that you value him.Do some little things that show you appreciate him.\n",
            "You do n't want to enter into a co-dependent, ca n't-breath-without-you kind of a relationship, as much as the movies make it look nice.\n"
          ],
          "name": "stdout"
        }
      ]
    },
    {
      "cell_type": "markdown",
      "metadata": {
        "id": "NiNAMRXR9NUH"
      },
      "source": [
        "Show ground truth summary"
      ]
    },
    {
      "cell_type": "code",
      "metadata": {
        "colab": {
          "base_uri": "https://localhost:8080/"
        },
        "id": "OgCr3DwJ9N0d",
        "outputId": "0f7a4a8a-1dd8-4c79-c2c0-d134da02919f"
      },
      "source": [
        "summary_sents = sent_tokenize(pair[0])\n",
        "summary_sents"
      ],
      "execution_count": 25,
      "outputs": [
        {
          "output_type": "execute_result",
          "data": {
            "text/plain": [
              "['be confident.',\n",
              " 'smile.',\n",
              " 'place yourself in his path.',\n",
              " 'play it cool.',\n",
              " 'make him laugh.',\n",
              " 'be nice to his friends.',\n",
              " 'use the \"3 strikes and you\\'re out\" rule.',\n",
              " 'have a successful first date.',\n",
              " 'pay attention to his interests.',\n",
              " \"do n't take him for granted.\",\n",
              " 'maintain some space.',\n",
              " \"decide if he 's truly worth it.\",\n",
              " 'tell him how you feel.']"
            ]
          },
          "metadata": {
            "tags": []
          },
          "execution_count": 25
        }
      ]
    },
    {
      "cell_type": "markdown",
      "metadata": {
        "id": "f9hlsGax9ROd"
      },
      "source": [
        "2- Optimized implementation\n",
        "\n",
        "link : https://github.com/summanlp/textrank"
      ]
    },
    {
      "cell_type": "code",
      "metadata": {
        "colab": {
          "base_uri": "https://localhost:8080/"
        },
        "id": "KNJQFMnd9Y3t",
        "outputId": "4e55dca9-dc91-443b-b0df-1d248536a13e"
      },
      "source": [
        "!pip install summa"
      ],
      "execution_count": 26,
      "outputs": [
        {
          "output_type": "stream",
          "text": [
            "Requirement already satisfied: summa in /usr/local/lib/python3.7/dist-packages (1.2.0)\n",
            "Requirement already satisfied: scipy>=0.19 in /usr/local/lib/python3.7/dist-packages (from summa) (1.4.1)\n",
            "Requirement already satisfied: numpy>=1.13.3 in /usr/local/lib/python3.7/dist-packages (from scipy>=0.19->summa) (1.19.5)\n"
          ],
          "name": "stdout"
        }
      ]
    },
    {
      "cell_type": "code",
      "metadata": {
        "id": "gF2zAlKy9bAE"
      },
      "source": [
        "from summa.summarizer import summarize\n",
        "text = pair[1]\n",
        "predicted_summary = summarize(text, ratio=0.05)"
      ],
      "execution_count": 27,
      "outputs": []
    },
    {
      "cell_type": "code",
      "metadata": {
        "id": "LJdaVsVh9bfM"
      },
      "source": [
        "#ground truth summary \n",
        "true_summary = pair[0]"
      ],
      "execution_count": 28,
      "outputs": []
    },
    {
      "cell_type": "code",
      "metadata": {
        "colab": {
          "base_uri": "https://localhost:8080/"
        },
        "id": "pgAW6WdH9fBp",
        "outputId": "aa614192-2727-40dd-bfc4-cba5e25b946e"
      },
      "source": [
        "!pip install rouge-score"
      ],
      "execution_count": 29,
      "outputs": [
        {
          "output_type": "stream",
          "text": [
            "Collecting rouge-score\n",
            "  Downloading https://files.pythonhosted.org/packages/1f/56/a81022436c08b9405a5247b71635394d44fe7e1dbedc4b28c740e09c2840/rouge_score-0.0.4-py2.py3-none-any.whl\n",
            "Requirement already satisfied: absl-py in /usr/local/lib/python3.7/dist-packages (from rouge-score) (0.12.0)\n",
            "Requirement already satisfied: six>=1.14.0 in /usr/local/lib/python3.7/dist-packages (from rouge-score) (1.15.0)\n",
            "Requirement already satisfied: nltk in /usr/local/lib/python3.7/dist-packages (from rouge-score) (3.6.2)\n",
            "Requirement already satisfied: numpy in /usr/local/lib/python3.7/dist-packages (from rouge-score) (1.19.5)\n",
            "Requirement already satisfied: regex in /usr/local/lib/python3.7/dist-packages (from nltk->rouge-score) (2019.12.20)\n",
            "Requirement already satisfied: click in /usr/local/lib/python3.7/dist-packages (from nltk->rouge-score) (7.1.2)\n",
            "Requirement already satisfied: joblib in /usr/local/lib/python3.7/dist-packages (from nltk->rouge-score) (1.0.1)\n",
            "Requirement already satisfied: tqdm in /usr/local/lib/python3.7/dist-packages (from nltk->rouge-score) (4.41.1)\n",
            "Installing collected packages: rouge-score\n",
            "Successfully installed rouge-score-0.0.4\n"
          ],
          "name": "stdout"
        }
      ]
    },
    {
      "cell_type": "code",
      "metadata": {
        "id": "F2bOlyI59fd2"
      },
      "source": [
        "from rouge_score import rouge_scorer\n",
        "\n",
        "scorer = rouge_scorer.RougeScorer(['rouge1', 'rouge2','rougeL'], use_stemmer=False)\n",
        "scores = scorer.score(true_summary,\n",
        "                      predicted_summary)"
      ],
      "execution_count": 30,
      "outputs": []
    },
    {
      "cell_type": "code",
      "metadata": {
        "colab": {
          "base_uri": "https://localhost:8080/"
        },
        "id": "NQokI6_c751i",
        "outputId": "420b6af1-7907-4074-d016-6d428edbd813"
      },
      "source": [
        "scores"
      ],
      "execution_count": 31,
      "outputs": [
        {
          "output_type": "execute_result",
          "data": {
            "text/plain": [
              "{'rouge1': Score(precision=0.13100436681222707, recall=0.5, fmeasure=0.20761245674740486),\n",
              " 'rouge2': Score(precision=0.03070175438596491, recall=0.11864406779661017, fmeasure=0.04878048780487805),\n",
              " 'rougeL': Score(precision=0.07423580786026202, recall=0.2833333333333333, fmeasure=0.11764705882352942)}"
            ]
          },
          "metadata": {
            "tags": []
          },
          "execution_count": 31
        }
      ]
    },
    {
      "cell_type": "markdown",
      "metadata": {
        "id": "Nqer7Dsn9jvP"
      },
      "source": [
        "Function to Run TextRank on a number of articles and compute scores : ROUGE1, ROUGE2, ROUGEL, METEOR"
      ]
    },
    {
      "cell_type": "code",
      "metadata": {
        "id": "CCGGrk8A9hQc"
      },
      "source": [
        "directory = \"./articles\"\n",
        "def compute_scores(ratio,n):\n",
        "  ## n : number of articles on which we test textrank example : 10000\n",
        "  ## ratio : summary size percentage of article example :  0.2\n",
        "  mean_rouge1 = 0\n",
        "  mean_rougeL = 0\n",
        "  mean_rouge2 = 0\n",
        "  mean_meteor = 0\n",
        "  n_articles = 0\n",
        "  scorer = rouge_scorer.RougeScorer(['rouge1', 'rouge2','rougeL'], use_stemmer=False)\n",
        "  ### Loop over files in articles directory, predict summaries with textrank and compute scores\n",
        "  f = open('titles.txt','r')\n",
        "  for line in f.readlines():\n",
        "      n_articles+=1\n",
        "      w = open(directory+'/'+line.rstrip()+'.txt','r')\n",
        "      txt = w.read()\n",
        "      w.close()\n",
        "      txt = txt.replace('@summary','')\n",
        "      pair = re.split('@article',txt)\n",
        "      pair = list(map(lambda x : re.sub(r\"\\'s\", \" \\'s\", x),pair))\n",
        "      pair = list(map(lambda x :re.sub(r\"n\\'t\", \" n\\'t\", x),pair))\n",
        "      pair = list(map(lambda x : re.sub(r\"\\s{2,}\", \" \", x), pair))\n",
        "      pair = list(map(lambda x : x.strip(r\"\\n\"),pair))\n",
        "      pair = list(map(lambda x : x.strip(),pair))\n",
        "      pair = list(map(lambda x : x.replace('\\n',''),pair))\n",
        "      text = pair[1]\n",
        "      predicted_summary = summarize(text, ratio=ratio)\n",
        "      true_summary = pair[0]\n",
        "      scores = scorer.score(true_summary,\n",
        "                        predicted_summary)\n",
        "      score2 = metric.compute(predictions=[predicted_summary], references=[true_summary])\n",
        "\n",
        "      mean_rouge1 += scores['rouge1'].fmeasure\n",
        "      mean_rougeL += scores['rougeL'].fmeasure\n",
        "      mean_rouge2 += scores['rouge2'].fmeasure\n",
        "      mean_meteor += score2['meteor']\n",
        "      if n_articles == n :\n",
        "          break\n",
        "\n",
        "  mean_rouge1 = mean_rouge1/n_articles\n",
        "  mean_rougeL = mean_rougeL/n_articles\n",
        "  mean_rouge2 = mean_rouge2/n_articles\n",
        "  mean_meteor = mean_meteor/n_articles\n",
        "  f.close()\n",
        "  return(mean_rouge1,mean_rouge2,mean_rougeL,mean_meteor)"
      ],
      "execution_count": 34,
      "outputs": []
    },
    {
      "cell_type": "code",
      "metadata": {
        "colab": {
          "base_uri": "https://localhost:8080/"
        },
        "id": "yx_3h8sp9npz",
        "outputId": "15c70c37-9614-4bec-b8b8-c0767db099b9"
      },
      "source": [
        "compute_scores(0.05,1000)"
      ],
      "execution_count": 35,
      "outputs": [
        {
          "output_type": "execute_result",
          "data": {
            "text/plain": [
              "(0.1419214304146277,\n",
              " 0.03468481101115176,\n",
              " 0.08836267205806711,\n",
              " 0.09738659336586257)"
            ]
          },
          "metadata": {
            "tags": []
          },
          "execution_count": 35
        }
      ]
    },
    {
      "cell_type": "code",
      "metadata": {
        "colab": {
          "base_uri": "https://localhost:8080/"
        },
        "id": "0ZwwiqwJScrl",
        "outputId": "41ad6c8d-dede-4ad4-c5c7-f35d98d0604a"
      },
      "source": [
        "compute_scores(0.1,1000)"
      ],
      "execution_count": 36,
      "outputs": [
        {
          "output_type": "execute_result",
          "data": {
            "text/plain": [
              "(0.20998983591790843,\n",
              " 0.054813648831442754,\n",
              " 0.1328954723408177,\n",
              " 0.17279829206215036)"
            ]
          },
          "metadata": {
            "tags": []
          },
          "execution_count": 36
        }
      ]
    },
    {
      "cell_type": "code",
      "metadata": {
        "colab": {
          "base_uri": "https://localhost:8080/"
        },
        "id": "IJ22MKN4S7k2",
        "outputId": "17535835-7884-4e73-e745-1190369b0a5f"
      },
      "source": [
        "compute_scores(0.2,1000)"
      ],
      "execution_count": 37,
      "outputs": [
        {
          "output_type": "execute_result",
          "data": {
            "text/plain": [
              "(0.21069393872152245,\n",
              " 0.05907131719234444,\n",
              " 0.13375753774632798,\n",
              " 0.21525587311325997)"
            ]
          },
          "metadata": {
            "tags": []
          },
          "execution_count": 37
        }
      ]
    },
    {
      "cell_type": "code",
      "metadata": {
        "colab": {
          "base_uri": "https://localhost:8080/"
        },
        "id": "pboUIPmpV9KL",
        "outputId": "3c659d5c-52a4-4b6f-b863-eff201b18561"
      },
      "source": [
        "compute_scores(0.05,10000)"
      ],
      "execution_count": 38,
      "outputs": [
        {
          "output_type": "execute_result",
          "data": {
            "text/plain": [
              "(0.12414345796300218,\n",
              " 0.02822587348008891,\n",
              " 0.0764439328711414,\n",
              " 0.08175181778054649)"
            ]
          },
          "metadata": {
            "tags": []
          },
          "execution_count": 38
        }
      ]
    },
    {
      "cell_type": "code",
      "metadata": {
        "colab": {
          "base_uri": "https://localhost:8080/"
        },
        "id": "7sEcGkfCV_48",
        "outputId": "b3b4c92e-8114-4074-8ddc-9c5d8c5ed373"
      },
      "source": [
        "compute_scores(0.1,10000)"
      ],
      "execution_count": 39,
      "outputs": [
        {
          "output_type": "execute_result",
          "data": {
            "text/plain": [
              "(0.20492270110293417,\n",
              " 0.051312875335039636,\n",
              " 0.1302312773899139,\n",
              " 0.1609219901514627)"
            ]
          },
          "metadata": {
            "tags": []
          },
          "execution_count": 39
        }
      ]
    },
    {
      "cell_type": "code",
      "metadata": {
        "colab": {
          "base_uri": "https://localhost:8080/"
        },
        "id": "jQION33-V_1g",
        "outputId": "214f5b0b-049f-4a5d-f96d-a9109e25502c"
      },
      "source": [
        "compute_scores(0.2,10000)"
      ],
      "execution_count": 40,
      "outputs": [
        {
          "output_type": "execute_result",
          "data": {
            "text/plain": [
              "(0.2175342237840372,\n",
              " 0.060413953656761575,\n",
              " 0.14025594368920574,\n",
              " 0.21205060207687715)"
            ]
          },
          "metadata": {
            "tags": []
          },
          "execution_count": 40
        }
      ]
    },
    {
      "cell_type": "markdown",
      "metadata": {
        "id": "5tqRbfy88xhj"
      },
      "source": [
        "Performane on the test set :"
      ]
    },
    {
      "cell_type": "code",
      "metadata": {
        "colab": {
          "base_uri": "https://localhost:8080/"
        },
        "id": "BtjzMnqG80Zo",
        "outputId": "9059aa9f-28c5-404c-a7d5-d261d073aaf5"
      },
      "source": [
        "!git clone https://github.com/mahnazkoupaee/WikiHow-Dataset\n"
      ],
      "execution_count": 41,
      "outputs": [
        {
          "output_type": "stream",
          "text": [
            "Cloning into 'WikiHow-Dataset'...\n",
            "remote: Enumerating objects: 52, done.\u001b[K\n",
            "remote: Total 52 (delta 0), reused 0 (delta 0), pack-reused 52\u001b[K\n",
            "Unpacking objects: 100% (52/52), done.\n"
          ],
          "name": "stdout"
        }
      ]
    },
    {
      "cell_type": "code",
      "metadata": {
        "id": "FvbI0edh8UyZ"
      },
      "source": [
        "directory = \"./articles\"\n",
        "def compute_scores_test(ratio):\n",
        "\n",
        "  ## ratio : summary size percentage of article example :  0.2\n",
        "  mean_rouge1 = 0\n",
        "  mean_rougeL = 0\n",
        "  mean_rouge2 = 0\n",
        "  mean_meteor = 0\n",
        "  n_articles = 0\n",
        "  scorer = rouge_scorer.RougeScorer(['rouge1', 'rouge2','rougeL'], use_stemmer=False)\n",
        "  ### Loop over files in test set, predict summaries with textrank and compute scores\n",
        "  f = open('/content/WikiHow-Dataset/all_test.txt','r')\n",
        "  for line in f.readlines():\n",
        "      n_articles+=1\n",
        "      w = open(directory+'/'+line.rstrip()+'.txt','r')\n",
        "      txt = w.read()\n",
        "      w.close()\n",
        "      txt = txt.replace('@summary','')\n",
        "      pair = re.split('@article',txt)\n",
        "      pair = list(map(lambda x : re.sub(r\"\\'s\", \" \\'s\", x),pair))\n",
        "      pair = list(map(lambda x :re.sub(r\"n\\'t\", \" n\\'t\", x),pair))\n",
        "      pair = list(map(lambda x : re.sub(r\"\\s{2,}\", \" \", x), pair))\n",
        "      pair = list(map(lambda x : x.strip(r\"\\n\"),pair))\n",
        "      pair = list(map(lambda x : x.strip(),pair))\n",
        "      pair = list(map(lambda x : x.replace('\\n',''),pair))\n",
        "      text = pair[1]\n",
        "      predicted_summary = summarize(text, ratio=ratio)\n",
        "      true_summary = pair[0]\n",
        "      scores = scorer.score(true_summary,\n",
        "                        predicted_summary)\n",
        "      score2 = metric.compute(predictions=[predicted_summary], references=[true_summary])\n",
        "\n",
        "      mean_rouge1 += scores['rouge1'].fmeasure\n",
        "      mean_rougeL += scores['rougeL'].fmeasure\n",
        "      mean_rouge2 += scores['rouge2'].fmeasure\n",
        "      mean_meteor += score2['meteor']\n",
        "\n",
        "  mean_rouge1 = mean_rouge1/n_articles\n",
        "  mean_rougeL = mean_rougeL/n_articles\n",
        "  mean_rouge2 = mean_rouge2/n_articles\n",
        "  mean_meteor = mean_meteor/n_articles\n",
        "  f.close()\n",
        "  return(mean_rouge1,mean_rouge2,mean_rougeL,mean_meteor)"
      ],
      "execution_count": 42,
      "outputs": []
    },
    {
      "cell_type": "markdown",
      "metadata": {
        "id": "JHwRBbFf8tPm"
      },
      "source": [
        ""
      ]
    },
    {
      "cell_type": "code",
      "metadata": {
        "colab": {
          "base_uri": "https://localhost:8080/"
        },
        "id": "eU5MIQ4Z_P7j",
        "outputId": "4eb46349-7156-48fd-a554-bfb13aa57470"
      },
      "source": [
        "compute_scores_test(0.05)"
      ],
      "execution_count": 43,
      "outputs": [
        {
          "output_type": "execute_result",
          "data": {
            "text/plain": [
              "(0.10028909710635338,\n",
              " 0.022585005304452888,\n",
              " 0.06184816219118027,\n",
              " 0.06313260701549105)"
            ]
          },
          "metadata": {
            "tags": []
          },
          "execution_count": 43
        }
      ]
    },
    {
      "cell_type": "code",
      "metadata": {
        "colab": {
          "base_uri": "https://localhost:8080/"
        },
        "id": "DvOd7sjk_QeT",
        "outputId": "1913d0a4-d872-4fe2-d5ab-3d6b5d792001"
      },
      "source": [
        "compute_scores_test(0.1)"
      ],
      "execution_count": 44,
      "outputs": [
        {
          "output_type": "execute_result",
          "data": {
            "text/plain": [
              "(0.1897330376343918,\n",
              " 0.047141372407812944,\n",
              " 0.12115409871506944,\n",
              " 0.13876017070286878)"
            ]
          },
          "metadata": {
            "tags": []
          },
          "execution_count": 44
        }
      ]
    },
    {
      "cell_type": "code",
      "metadata": {
        "colab": {
          "base_uri": "https://localhost:8080/"
        },
        "id": "P_T1VcfH_Q5G",
        "outputId": "fe49d8cc-1707-4e33-fa83-3ef93c1761b4"
      },
      "source": [
        "compute_scores_test(0.2)"
      ],
      "execution_count": 45,
      "outputs": [
        {
          "output_type": "execute_result",
          "data": {
            "text/plain": [
              "(0.2240910696800485,\n",
              " 0.0611054312111406,\n",
              " 0.14506810236645148,\n",
              " 0.1963640425297248)"
            ]
          },
          "metadata": {
            "tags": []
          },
          "execution_count": 45
        }
      ]
    },
    {
      "cell_type": "code",
      "metadata": {
        "id": "K7QYFxda_sux"
      },
      "source": [
        ""
      ],
      "execution_count": null,
      "outputs": []
    }
  ]
}